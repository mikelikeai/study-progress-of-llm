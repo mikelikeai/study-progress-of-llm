{
  "cells": [
    {
      "cell_type": "markdown",
      "source": [
        "# 安装必要包"
      ],
      "metadata": {
        "id": "EbvOs8zEbarB"
      }
    },
    {
      "cell_type": "code",
      "source": [
        "!pip install folium==0.2.1"
      ],
      "metadata": {
        "id": "V7xcNVbKQqx3"
      },
      "execution_count": null,
      "outputs": []
    },
    {
      "cell_type": "code",
      "source": [
        "!pip install torchtext==0.15.1"
      ],
      "metadata": {
        "id": "pQPQq7UTZ0_G"
      },
      "execution_count": null,
      "outputs": []
    },
    {
      "cell_type": "code",
      "source": [
        "!pip install -q altair GPUtil"
      ],
      "metadata": {
        "id": "ZMeTTbnyQrmi"
      },
      "execution_count": null,
      "outputs": []
    },
    {
      "cell_type": "markdown",
      "source": [
        "# 下载德语和英语的预训练语言模型"
      ],
      "metadata": {
        "id": "0HWJ8s69hHbA"
      }
    },
    {
      "cell_type": "code",
      "source": [
        "!python -m spacy download de_core_news_sm\n",
        "!python -m spacy download en_core_web_sm"
      ],
      "metadata": {
        "id": "EuEYKsfTbjUV"
      },
      "execution_count": null,
      "outputs": []
    },
    {
      "cell_type": "markdown",
      "source": [
        "# 导入相关包"
      ],
      "metadata": {
        "id": "GLhTVnwYcjas"
      }
    },
    {
      "cell_type": "code",
      "execution_count": 38,
      "metadata": {
        "id": "tTWWeP35dXNh"
      },
      "outputs": [],
      "source": [
        "import os\n",
        "from os.path import exists\n",
        "import torch\n",
        "import torch.nn as nn\n",
        "from torch.nn.functional import log_softmax, pad\n",
        "# See: https://pytorch.org/docs/stable/generated/torch.nn.Linear.html\n",
        "# See: https://pytorch.org/docs/stable/generated/torch.nn.functional.pad.html\n",
        "import math\n",
        "import copy\n",
        "import time\n",
        "from torch.optim.lr_scheduler import LambdaLR\n",
        "import pandas as pd\n",
        "import altair as alt\n",
        "from torchtext.data.functional import to_map_style_dataset\n",
        "from torch.utils.data import DataLoader\n",
        "from torchtext.vocab import build_vocab_from_iterator\n",
        "\n",
        "# import torchtext.datasets as datasets\n",
        "import spacy\n",
        "import GPUtil\n",
        "import warnings\n",
        "from torch.utils.data.distributed import DistributedSampler\n",
        "import torch.distributed as dist\n",
        "import torch.multiprocessing as mp\n",
        "from torch.nn.parallel import DistributedDataParallel as DDP\n",
        "\n",
        "\n",
        "# Set to False to skip notebook execution (e.g. for debugging)\n",
        "warnings.filterwarnings(\"ignore\")\n",
        "RUN_EXAMPLES = True"
      ]
    },
    {
      "cell_type": "markdown",
      "source": [
        "# 常见工具函数"
      ],
      "metadata": {
        "id": "z_7dGteJiVah"
      }
    },
    {
      "cell_type": "code",
      "execution_count": 2,
      "metadata": {
        "id": "NFp45u0Jd0aB"
      },
      "outputs": [],
      "source": [
        "def is_interactive_notebook():\n",
        "    return __name__ == \"__main__\"\n",
        "\n",
        "\n",
        "def show_example(fn, args=[]):\n",
        "    if __name__ == \"__main__\" and RUN_EXAMPLES:\n",
        "        return fn(*args)\n",
        "\n",
        "\n",
        "def execute_example(fn, args=[]):\n",
        "    if __name__ == \"__main__\" and RUN_EXAMPLES:\n",
        "        fn(*args)\n",
        "\n",
        "\n",
        "class DummyOptimizer(torch.optim.Optimizer):\n",
        "    def __init__(self):\n",
        "        self.param_groups = [{\"lr\": 0}]\n",
        "        None\n",
        "\n",
        "    def step(self):\n",
        "        None\n",
        "\n",
        "    def zero_grad(self, set_to_none=False):\n",
        "        None\n",
        "\n",
        "\n",
        "class DummyScheduler:\n",
        "    def step(self):\n",
        "        None"
      ]
    },
    {
      "cell_type": "markdown",
      "source": [
        "# Transformer整体网络结构"
      ],
      "metadata": {
        "id": "j5pik99riZza"
      }
    },
    {
      "cell_type": "code",
      "execution_count": 3,
      "metadata": {
        "id": "vp--QFs1f-KR"
      },
      "outputs": [],
      "source": [
        "class EncoderDecoder(nn.Module):\n",
        "    \"\"\"\n",
        "    A standard Encoder-Decoder architecture. Base for this and many\n",
        "    other models.\n",
        "    \"\"\"\n",
        "\n",
        "    def __init__(self, encoder, decoder, src_embed, tgt_embed, generator):\n",
        "        super(EncoderDecoder, self).__init__()\n",
        "        self.encoder = encoder\n",
        "        self.decoder = decoder\n",
        "        self.src_embed = src_embed\n",
        "        self.tgt_embed = tgt_embed\n",
        "        self.generator = generator\n",
        "\n",
        "    def forward(self, src, tgt, src_mask, tgt_mask):\n",
        "        \"Take in and process masked src and target sequences.\"\n",
        "        return self.decode(self.encode(src, src_mask), src_mask, tgt, tgt_mask)\n",
        "\n",
        "    def encode(self, src, src_mask):\n",
        "        return self.encoder(self.src_embed(src), src_mask)\n",
        "\n",
        "    def decode(self, memory, src_mask, tgt, tgt_mask):\n",
        "        return self.decoder(self.tgt_embed(tgt), memory, src_mask, tgt_mask)"
      ]
    },
    {
      "cell_type": "markdown",
      "source": [
        "# 目标输出部分"
      ],
      "metadata": {
        "id": "TztbZN0xiwUa"
      }
    },
    {
      "cell_type": "code",
      "source": [
        "class Generator(nn.Module):\n",
        "    \"Define standard linear + softmax generation step.\"\n",
        "\n",
        "    def __init__(self, d_model, vocab):\n",
        "        super(Generator, self).__init__()\n",
        "        # See: https://pytorch.org/docs/stable/generated/torch.nn.Linear.html\n",
        "        self.proj = nn.Linear(d_model, vocab)\n",
        "\n",
        "    def forward(self, x):\n",
        "        return log_softmax(self.proj(x), dim=-1)"
      ],
      "metadata": {
        "id": "8hExd71Kiumd"
      },
      "execution_count": 4,
      "outputs": []
    },
    {
      "cell_type": "markdown",
      "source": [
        "# 编码器部分"
      ],
      "metadata": {
        "id": "BedrKOrynXez"
      }
    },
    {
      "cell_type": "markdown",
      "source": [
        "编码器整体"
      ],
      "metadata": {
        "id": "4dDMYIpNrgNk"
      }
    },
    {
      "cell_type": "code",
      "execution_count": 5,
      "metadata": {
        "id": "R1AVhAhO1URS"
      },
      "outputs": [],
      "source": [
        "class Encoder(nn.Module):\n",
        "    \"Core encoder is a stack of N layers\"\n",
        "\n",
        "    def __init__(self, layer, N):\n",
        "        super(Encoder, self).__init__()\n",
        "        self.layers = clones(layer, N)\n",
        "        self.norm = LayerNorm(layer.size)\n",
        "\n",
        "    def forward(self, x, mask):\n",
        "        \"Pass the input (and mask) through each layer in turn.\"\n",
        "        for layer in self.layers:\n",
        "            x = layer(x, mask)\n",
        "        return self.norm(x)"
      ]
    },
    {
      "cell_type": "markdown",
      "metadata": {
        "id": "NLj7QxocN7P6"
      },
      "source": [
        "编码层"
      ]
    },
    {
      "cell_type": "code",
      "execution_count": 6,
      "metadata": {
        "id": "PaCL-yqWN7rb"
      },
      "outputs": [],
      "source": [
        "class EncoderLayer(nn.Module):\n",
        "    \"Encoder is made up of self-attn and feed forward (defined below)\"\n",
        "\n",
        "    def __init__(self, size, self_attn, feed_forward, dropout):\n",
        "        super(EncoderLayer, self).__init__()\n",
        "        self.self_attn = self_attn\n",
        "        self.feed_forward = feed_forward\n",
        "        self.sublayer = clones(SublayerConnection(size, dropout), 2)\n",
        "        self.size = size\n",
        "\n",
        "    def forward(self, x, mask):\n",
        "        \"Follow Figure 1 (left) for connections.\"\n",
        "        x = self.sublayer[0](x, lambda x: self.self_attn(x, x, x, mask))\n",
        "        return self.sublayer[1](x, self.feed_forward)"
      ]
    },
    {
      "cell_type": "markdown",
      "metadata": {
        "id": "pEhq7hEZNMhR"
      },
      "source": [
        "子层连接，连接多头自注意力子层和全连接子层"
      ]
    },
    {
      "cell_type": "code",
      "execution_count": 7,
      "metadata": {
        "id": "cAI3B-bYNKF6"
      },
      "outputs": [],
      "source": [
        "class SublayerConnection(nn.Module):\n",
        "    \"\"\"\n",
        "    A residual connection followed by a layer norm.\n",
        "    Note for code simplicity the norm is first as opposed to last.\n",
        "    \"\"\"\n",
        "\n",
        "    def __init__(self, size, dropout):\n",
        "        super(SublayerConnection, self).__init__()\n",
        "        self.norm = LayerNorm(size)\n",
        "        self.dropout = nn.Dropout(dropout)\n",
        "\n",
        "    def forward(self, x, sublayer):\n",
        "        \"Apply residual connection to any sublayer with the same size.\"\n",
        "        return x + self.dropout(sublayer(self.norm(x)))"
      ]
    },
    {
      "cell_type": "markdown",
      "source": [
        "拷贝对象"
      ],
      "metadata": {
        "id": "VuxFWOd8rdr7"
      }
    },
    {
      "cell_type": "code",
      "source": [
        "def clones(module, N):\n",
        "    \"Produce N identical layers.\"\n",
        "    return nn.ModuleList([copy.deepcopy(module) for _ in range(N)])"
      ],
      "metadata": {
        "id": "0BiZ-xVansgK"
      },
      "execution_count": 8,
      "outputs": []
    },
    {
      "cell_type": "markdown",
      "source": [
        "层标准化"
      ],
      "metadata": {
        "id": "43CjlIJTrn27"
      }
    },
    {
      "cell_type": "code",
      "execution_count": 9,
      "metadata": {
        "id": "np2hNOK72tYE"
      },
      "outputs": [],
      "source": [
        "class LayerNorm(nn.Module):\n",
        "    \"Construct a layernorm module (See citation for details).\"\n",
        "\n",
        "    def __init__(self, features, eps=1e-6):\n",
        "        super(LayerNorm, self).__init__()\n",
        "        self.a_2 = nn.Parameter(torch.ones(features))\n",
        "        self.b_2 = nn.Parameter(torch.zeros(features))\n",
        "        self.eps = eps\n",
        "\n",
        "    def forward(self, x):\n",
        "        mean = x.mean(-1, keepdim=True)\n",
        "        std = x.std(-1, keepdim=True)\n",
        "        return self.a_2 * (x - mean) / (std + self.eps) + self.b_2"
      ]
    },
    {
      "cell_type": "markdown",
      "metadata": {
        "id": "8In8ioRhOoU3"
      },
      "source": [
        "# 解码器部分"
      ]
    },
    {
      "cell_type": "markdown",
      "source": [
        "解码器整体"
      ],
      "metadata": {
        "id": "J2Ys27Ne1dPz"
      }
    },
    {
      "cell_type": "code",
      "execution_count": 10,
      "metadata": {
        "id": "IsCOra5qOzvo"
      },
      "outputs": [],
      "source": [
        "class Decoder(nn.Module):\n",
        "    \"Generic N layer decoder with masking.\"\n",
        "\n",
        "    def __init__(self, layer, N):\n",
        "        super(Decoder, self).__init__()\n",
        "        self.layers = clones(layer, N)\n",
        "        self.norm = LayerNorm(layer.size)\n",
        "\n",
        "    def forward(self, x, memory, src_mask, tgt_mask):\n",
        "        for layer in self.layers:\n",
        "            x = layer(x, memory, src_mask, tgt_mask)\n",
        "        return self.norm(x)"
      ]
    },
    {
      "cell_type": "markdown",
      "source": [
        "解码器层"
      ],
      "metadata": {
        "id": "-el-dFvM1nNY"
      }
    },
    {
      "cell_type": "code",
      "execution_count": 11,
      "metadata": {
        "id": "HG-VLG5mPPqb"
      },
      "outputs": [],
      "source": [
        "class DecoderLayer(nn.Module):\n",
        "    \"Decoder is made of self-attn, src-attn, and feed forward (defined below)\"\n",
        "\n",
        "    def __init__(self, size, self_attn, src_attn, feed_forward, dropout):\n",
        "        super(DecoderLayer, self).__init__()\n",
        "        self.size = size\n",
        "        self.self_attn = self_attn\n",
        "        self.src_attn = src_attn\n",
        "        self.feed_forward = feed_forward\n",
        "        self.sublayer = clones(SublayerConnection(size, dropout), 3)\n",
        "\n",
        "    def forward(self, x, memory, src_mask, tgt_mask):\n",
        "        \"Follow Figure 1 (right) for connections.\"\n",
        "        m = memory\n",
        "        x = self.sublayer[0](x, lambda x: self.self_attn(x, x, x, tgt_mask))\n",
        "        x = self.sublayer[1](x, lambda x: self.src_attn(x, m, m, src_mask))\n",
        "        return self.sublayer[2](x, self.feed_forward)"
      ]
    },
    {
      "cell_type": "markdown",
      "metadata": {
        "id": "XWoxOVyFPfF0"
      },
      "source": [
        "遮盖动作"
      ]
    },
    {
      "cell_type": "code",
      "execution_count": 12,
      "metadata": {
        "id": "HbBrmfrrPVLQ"
      },
      "outputs": [],
      "source": [
        "def subsequent_mask(size):\n",
        "    \"Mask out subsequent positions.\"\n",
        "    attn_shape = (1, size, size)\n",
        "    subsequent_mask = torch.triu(torch.ones(attn_shape), diagonal=1).type(\n",
        "        torch.uint8\n",
        "    )\n",
        "    return subsequent_mask == 0"
      ]
    },
    {
      "cell_type": "markdown",
      "metadata": {
        "id": "WjeqN_DdSgB5"
      },
      "source": [
        "自注意力计算"
      ]
    },
    {
      "cell_type": "code",
      "execution_count": 13,
      "metadata": {
        "id": "6pUfAgd8P2FK"
      },
      "outputs": [],
      "source": [
        "def attention(query, key, value, mask=None, dropout=None):\n",
        "    \"Compute 'Scaled Dot Product Attention'\"\n",
        "    d_k = query.size(-1)\n",
        "    # Here is the attention function\n",
        "    scores = torch.matmul(query, key.transpose(-2, -1)) / math.sqrt(d_k)\n",
        "    if mask is not None:\n",
        "        scores = scores.masked_fill(mask == 0, -1e9)\n",
        "    p_attn = scores.softmax(dim=-1)\n",
        "    if dropout is not None:\n",
        "        p_attn = dropout(p_attn)\n",
        "    return torch.matmul(p_attn, value), p_attn"
      ]
    },
    {
      "cell_type": "markdown",
      "metadata": {
        "id": "r7SkQ19FV_tV"
      },
      "source": [
        "多头自注意力"
      ]
    },
    {
      "cell_type": "code",
      "execution_count": 14,
      "metadata": {
        "id": "2BTw2ZacSRqE"
      },
      "outputs": [],
      "source": [
        "class MultiHeadedAttention(nn.Module):\n",
        "    def __init__(self, h, d_model, dropout=0.1):\n",
        "        \"Take in model size and number of heads.\"\n",
        "        super(MultiHeadedAttention, self).__init__()\n",
        "        assert d_model % h == 0\n",
        "        # We assume d_v always equals d_k\n",
        "        self.d_k = d_model // h\n",
        "        self.h = h\n",
        "        self.linears = clones(nn.Linear(d_model, d_model), 4)\n",
        "        self.attn = None\n",
        "        self.dropout = nn.Dropout(p=dropout)\n",
        "\n",
        "    def forward(self, query, key, value, mask=None):\n",
        "        \"Implements Figure 2\"\n",
        "        if mask is not None:\n",
        "            # Same mask applied to all h heads.\n",
        "            mask = mask.unsqueeze(1)\n",
        "        nbatches = query.size(0)\n",
        "\n",
        "        # 1) Do all the linear projections in batch from d_model => h x d_k\n",
        "        query, key, value = [\n",
        "            lin(x).view(nbatches, -1, self.h, self.d_k).transpose(1, 2)\n",
        "            for lin, x in zip(self.linears, (query, key, value))\n",
        "        ]\n",
        "\n",
        "        # 2) Apply attention on all the projected vectors in batch.\n",
        "        x, self.attn = attention(\n",
        "            query, key, value, mask=mask, dropout=self.dropout\n",
        "        )\n",
        "\n",
        "        # 3) \"Concat\" using a view and apply a final linear.\n",
        "        x = (\n",
        "            x.transpose(1, 2)\n",
        "            .contiguous()\n",
        "            .view(nbatches, -1, self.h * self.d_k)\n",
        "        )\n",
        "        del query\n",
        "        del key\n",
        "        del value\n",
        "        return self.linears[-1](x)"
      ]
    },
    {
      "cell_type": "markdown",
      "source": [
        "# 基础模块"
      ],
      "metadata": {
        "id": "92Mrt5af55U0"
      }
    },
    {
      "cell_type": "markdown",
      "source": [
        "基于位置的前馈神经网络"
      ],
      "metadata": {
        "id": "NLdPJVa-5V5N"
      }
    },
    {
      "cell_type": "code",
      "execution_count": 15,
      "metadata": {
        "id": "-SJUtJvpWBC4"
      },
      "outputs": [],
      "source": [
        "class PositionwiseFeedForward(nn.Module):\n",
        "    \"Implements FFN equation.\"\n",
        "\n",
        "    def __init__(self, d_model, d_ff, dropout=0.1):\n",
        "        super(PositionwiseFeedForward, self).__init__()\n",
        "        self.w_1 = nn.Linear(d_model, d_ff)\n",
        "        self.w_2 = nn.Linear(d_ff, d_model)\n",
        "        self.dropout = nn.Dropout(dropout)\n",
        "\n",
        "    def forward(self, x):\n",
        "        return self.w_2(self.dropout(self.w_1(x).relu()))"
      ]
    },
    {
      "cell_type": "markdown",
      "source": [
        "词嵌入"
      ],
      "metadata": {
        "id": "0qq0AVXW5dPT"
      }
    },
    {
      "cell_type": "code",
      "execution_count": 16,
      "metadata": {
        "id": "CU229IlZXnLr"
      },
      "outputs": [],
      "source": [
        "class Embeddings(nn.Module):\n",
        "    def __init__(self, d_model, vocab):\n",
        "        super(Embeddings, self).__init__()\n",
        "        self.lut = nn.Embedding(vocab, d_model)\n",
        "        self.d_model = d_model\n",
        "\n",
        "    def forward(self, x):\n",
        "        return self.lut(x) * math.sqrt(self.d_model)"
      ]
    },
    {
      "cell_type": "markdown",
      "source": [
        "位置嵌入"
      ],
      "metadata": {
        "id": "O8lL9TLO5wE8"
      }
    },
    {
      "cell_type": "code",
      "execution_count": 17,
      "metadata": {
        "id": "LBxQI_pKXqYC"
      },
      "outputs": [],
      "source": [
        "class PositionalEncoding(nn.Module):\n",
        "    \"Implement the PE function.\"\n",
        "\n",
        "    def __init__(self, d_model, dropout, max_len=5000):\n",
        "        super(PositionalEncoding, self).__init__()\n",
        "        self.dropout = nn.Dropout(p=dropout)\n",
        "\n",
        "        # Compute the positional encodings once in log space.\n",
        "        pe = torch.zeros(max_len, d_model)\n",
        "        position = torch.arange(0, max_len).unsqueeze(1)\n",
        "        div_term = torch.exp(\n",
        "            torch.arange(0, d_model, 2) * -(math.log(10000.0) / d_model)\n",
        "        )\n",
        "        pe[:, 0::2] = torch.sin(position * div_term)\n",
        "        pe[:, 1::2] = torch.cos(position * div_term)\n",
        "        pe = pe.unsqueeze(0)\n",
        "        self.register_buffer(\"pe\", pe)\n",
        "\n",
        "    def forward(self, x):\n",
        "        x = x + self.pe[:, : x.size(1)].requires_grad_(False)\n",
        "        return self.dropout(x)"
      ]
    },
    {
      "cell_type": "markdown",
      "source": [
        "# 构建整体网络架构"
      ],
      "metadata": {
        "id": "gzctYx_c6AUK"
      }
    },
    {
      "cell_type": "code",
      "execution_count": 18,
      "metadata": {
        "id": "vSpXguJ8X1Cs"
      },
      "outputs": [],
      "source": [
        "def make_model(\n",
        "    src_vocab, tgt_vocab, N=6, d_model=512, d_ff=2048, h=8, dropout=0.1\n",
        "):\n",
        "    \"Helper: Construct a model from hyperparameters.\"\n",
        "    c = copy.deepcopy\n",
        "    attn = MultiHeadedAttention(h, d_model)\n",
        "    ff = PositionwiseFeedForward(d_model, d_ff, dropout)\n",
        "    position = PositionalEncoding(d_model, dropout)\n",
        "    model = EncoderDecoder(\n",
        "        Encoder(EncoderLayer(d_model, c(attn), c(ff), dropout), N),\n",
        "        Decoder(DecoderLayer(d_model, c(attn), c(attn), c(ff), dropout), N),\n",
        "        nn.Sequential(Embeddings(d_model, src_vocab), c(position)),\n",
        "        nn.Sequential(Embeddings(d_model, tgt_vocab), c(position)),\n",
        "        Generator(d_model, tgt_vocab),\n",
        "    )\n",
        "\n",
        "    # Initialize parameters with Glorot / fan_avg.\n",
        "    for p in model.parameters():\n",
        "        if p.dim() > 1:\n",
        "            nn.init.xavier_uniform_(p)\n",
        "    return model"
      ]
    },
    {
      "cell_type": "markdown",
      "source": [
        "# 训练部分"
      ],
      "metadata": {
        "id": "Oick1s_l8-Sb"
      }
    },
    {
      "cell_type": "markdown",
      "source": [
        "数据批次处理"
      ],
      "metadata": {
        "id": "d-IeQgZe9snw"
      }
    },
    {
      "cell_type": "code",
      "execution_count": 19,
      "metadata": {
        "id": "S_nyynCzYAaW"
      },
      "outputs": [],
      "source": [
        "class Batch:\n",
        "    \"\"\"Object for holding a batch of data with mask during training.\"\"\"\n",
        "\n",
        "    def __init__(self, src, tgt=None, pad=2):  # 2 = <blank>\n",
        "        self.src = src\n",
        "        self.src_mask = (src != pad).unsqueeze(-2)\n",
        "        if tgt is not None:\n",
        "            self.tgt = tgt[:, :-1]\n",
        "            self.tgt_y = tgt[:, 1:]\n",
        "            self.tgt_mask = self.make_std_mask(self.tgt, pad)\n",
        "            self.ntokens = (self.tgt_y != pad).data.sum()\n",
        "\n",
        "    @staticmethod\n",
        "    def make_std_mask(tgt, pad):\n",
        "        \"Create a mask to hide padding and future words.\"\n",
        "        tgt_mask = (tgt != pad).unsqueeze(-2)\n",
        "        tgt_mask = tgt_mask & subsequent_mask(tgt.size(-1)).type_as(\n",
        "            tgt_mask.data\n",
        "        )\n",
        "        return tgt_mask"
      ]
    },
    {
      "cell_type": "markdown",
      "source": [
        "保存训练状态"
      ],
      "metadata": {
        "id": "WNDo64M79NCk"
      }
    },
    {
      "cell_type": "code",
      "execution_count": 20,
      "metadata": {
        "id": "2DaTDEU8YUtQ"
      },
      "outputs": [],
      "source": [
        "# Note how a class is used to hold the values of important parameters.\n",
        "class TrainState:\n",
        "    \"\"\"Track number of steps, examples, and tokens processed\"\"\"\n",
        "\n",
        "    step: int = 0  # Steps in the current epoch\n",
        "    accum_step: int = 0  # Number of gradient accumulation steps\n",
        "    samples: int = 0  # total # of examples used\n",
        "    tokens: int = 0  # total # of tokens processed"
      ]
    },
    {
      "cell_type": "markdown",
      "source": [
        "训练过程"
      ],
      "metadata": {
        "id": "5dm7cVw79cvF"
      }
    },
    {
      "cell_type": "code",
      "execution_count": 21,
      "metadata": {
        "id": "bXuWo7IlYYd4"
      },
      "outputs": [],
      "source": [
        "def run_epoch(\n",
        "    data_iter,\n",
        "    model,\n",
        "    loss_compute,\n",
        "    optimizer,\n",
        "    scheduler,\n",
        "    mode=\"train\",\n",
        "    accum_iter=1,\n",
        "    train_state=TrainState(),\n",
        "):\n",
        "    \"\"\"Train a single epoch\"\"\"\n",
        "    start = time.time()\n",
        "    total_tokens = 0\n",
        "    total_loss = 0\n",
        "    tokens = 0\n",
        "    n_accum = 0\n",
        "    for i, batch in enumerate(data_iter):\n",
        "        out = model.forward(\n",
        "            batch.src, batch.tgt, batch.src_mask, batch.tgt_mask\n",
        "        )\n",
        "        loss, loss_node = loss_compute(out, batch.tgt_y, batch.ntokens)\n",
        "        # loss_node = loss_node / accum_iter\n",
        "        if mode == \"train\" or mode == \"train+log\":\n",
        "            loss_node.backward()\n",
        "            train_state.step += 1\n",
        "            train_state.samples += batch.src.shape[0]\n",
        "            train_state.tokens += batch.ntokens\n",
        "            if i % accum_iter == 0:\n",
        "                optimizer.step()\n",
        "                optimizer.zero_grad(set_to_none=True)\n",
        "                n_accum += 1\n",
        "                train_state.accum_step += 1\n",
        "            scheduler.step()\n",
        "\n",
        "        total_loss += loss\n",
        "        total_tokens += batch.ntokens\n",
        "        tokens += batch.ntokens\n",
        "        if i % 40 == 1 and (mode == \"train\" or mode == \"train+log\"):\n",
        "            lr = optimizer.param_groups[0][\"lr\"]\n",
        "            elapsed = time.time() - start\n",
        "            print(\n",
        "                (\n",
        "                    \"Epoch Step: %6d | Accumulation Step: %3d | Loss: %6.2f \"\n",
        "                    + \"| Tokens / Sec: %7.1f | Learning Rate: %6.1e\"\n",
        "                )\n",
        "                % (i, n_accum, loss / batch.ntokens, tokens / elapsed, lr)\n",
        "            )\n",
        "            start = time.time()\n",
        "            tokens = 0\n",
        "        del loss\n",
        "        del loss_node\n",
        "    return total_loss / total_tokens, train_state"
      ]
    },
    {
      "cell_type": "markdown",
      "source": [
        "学习率函数"
      ],
      "metadata": {
        "id": "qeugyUYG9xsF"
      }
    },
    {
      "cell_type": "code",
      "execution_count": 22,
      "metadata": {
        "id": "-sB1D2qtYcX3"
      },
      "outputs": [],
      "source": [
        "def rate(step, model_size, factor, warmup):\n",
        "    \"\"\"\n",
        "    we have to default the step to 1 for LambdaLR function\n",
        "    to avoid zero raising to negative power.\n",
        "    \"\"\"\n",
        "    if step == 0:\n",
        "        step = 1\n",
        "    return factor * (\n",
        "        model_size ** (-0.5) * min(step ** (-0.5), step * warmup ** (-1.5))\n",
        "    )"
      ]
    },
    {
      "cell_type": "markdown",
      "metadata": {
        "id": "irCKZmk-Y4Ng"
      },
      "source": [
        "# 正则化"
      ]
    },
    {
      "cell_type": "markdown",
      "source": [
        "标签平滑"
      ],
      "metadata": {
        "id": "JblqfIIGmTdN"
      }
    },
    {
      "cell_type": "code",
      "execution_count": 23,
      "metadata": {
        "id": "t7iCMGGeWYJt"
      },
      "outputs": [],
      "source": [
        "class LabelSmoothing(nn.Module):\n",
        "    \"Implement label smoothing.\"\n",
        "\n",
        "    def __init__(self, size, padding_idx, smoothing=0.0):\n",
        "        super(LabelSmoothing, self).__init__()\n",
        "        self.criterion = nn.KLDivLoss(reduction=\"sum\")\n",
        "        self.padding_idx = padding_idx\n",
        "        self.confidence = 1.0 - smoothing\n",
        "        self.smoothing = smoothing\n",
        "        self.size = size\n",
        "        self.true_dist = None\n",
        "\n",
        "    def forward(self, x, target):\n",
        "        assert x.size(1) == self.size\n",
        "        true_dist = x.data.clone()\n",
        "        true_dist.fill_(self.smoothing / (self.size - 2))\n",
        "        true_dist.scatter_(1, target.data.unsqueeze(1), self.confidence)\n",
        "        true_dist[:, self.padding_idx] = 0\n",
        "        mask = torch.nonzero(target.data == self.padding_idx)\n",
        "        if mask.dim() > 0:\n",
        "            true_dist.index_fill_(0, mask.squeeze(), 0.0)\n",
        "        self.true_dist = true_dist\n",
        "        return self.criterion(x, true_dist.clone().detach())"
      ]
    },
    {
      "cell_type": "code",
      "execution_count": 24,
      "metadata": {
        "id": "OEi_FZtrYthM"
      },
      "outputs": [],
      "source": [
        "def loss(x, crit):\n",
        "    d = x + 3 * 1\n",
        "    predict = torch.FloatTensor([[0, x / d, 1 / d, 1 / d, 1 / d]])\n",
        "    return crit(predict.log(), torch.LongTensor([1])).data"
      ]
    },
    {
      "cell_type": "code",
      "execution_count": 25,
      "metadata": {
        "id": "MuTjPpOC5vmv"
      },
      "outputs": [],
      "source": [
        "def data_gen(V, batch_size, nbatches):\n",
        "    \"Generate random data for a src-tgt copy task.\"\n",
        "    for i in range(nbatches):\n",
        "        data = torch.randint(1, V, size=(batch_size, 10))\n",
        "        data[:, 0] = 1\n",
        "        src = data.requires_grad_(False).clone().detach()\n",
        "        tgt = data.requires_grad_(False).clone().detach()\n",
        "        yield Batch(src, tgt, 0)"
      ]
    },
    {
      "cell_type": "code",
      "execution_count": 26,
      "metadata": {
        "id": "rjo4LgXb59Ap"
      },
      "outputs": [],
      "source": [
        "class SimpleLossCompute:\n",
        "    \"A simple loss compute and train function.\"\n",
        "\n",
        "    def __init__(self, generator, criterion):\n",
        "        self.generator = generator\n",
        "        self.criterion = criterion\n",
        "\n",
        "    def __call__(self, x, y, norm):\n",
        "        x = self.generator(x)\n",
        "        sloss = (\n",
        "            self.criterion(\n",
        "                x.contiguous().view(-1, x.size(-1)), y.contiguous().view(-1)\n",
        "            )\n",
        "            / norm\n",
        "        )\n",
        "        return sloss.data * norm, sloss"
      ]
    },
    {
      "cell_type": "code",
      "execution_count": 27,
      "metadata": {
        "id": "lh-CBICH6EAZ"
      },
      "outputs": [],
      "source": [
        "def greedy_decode(model, src, src_mask, max_len, start_symbol):\n",
        "    memory = model.encode(src, src_mask)\n",
        "    ys = torch.zeros(1, 1).fill_(start_symbol).type_as(src.data)\n",
        "    for i in range(max_len - 1):\n",
        "        out = model.decode(\n",
        "            memory, src_mask, ys, subsequent_mask(ys.size(1)).type_as(src.data)\n",
        "        )\n",
        "        prob = model.generator(out[:, -1])\n",
        "        _, next_word = torch.max(prob, dim=1)\n",
        "        next_word = next_word.data[0]\n",
        "        ys = torch.cat(\n",
        "            [ys, torch.zeros(1, 1).type_as(src.data).fill_(next_word)], dim=1\n",
        "        )\n",
        "    return ys"
      ]
    },
    {
      "cell_type": "markdown",
      "source": [
        "# 加载样本"
      ],
      "metadata": {
        "id": "BsDFpGiBNIxd"
      }
    },
    {
      "cell_type": "code",
      "source": [
        "import os\n",
        "from google.colab import drive\n",
        "drive.mount('/content/drive')\n",
        "os.chdir(\"/content/drive/MyDrive/3d_vison/第四章：Transformer详解及翻译模型搭建/datasets\")\n",
        "os.getcwd()\n",
        "os.listdir()\n",
        "print(os.getcwd())"
      ],
      "metadata": {
        "id": "2VKIjFrE-Amf",
        "colab": {
          "base_uri": "https://localhost:8080/"
        },
        "outputId": "743c4c52-d958-4345-c40f-521415a9fa4c"
      },
      "execution_count": 28,
      "outputs": [
        {
          "output_type": "stream",
          "name": "stdout",
          "text": [
            "Mounted at /content/drive\n",
            "/content/drive/MyDrive/3d_vison/第四章：Transformer详解及翻译模型搭建/datasets\n"
          ]
        }
      ]
    },
    {
      "cell_type": "code",
      "source": [
        "my_file_en = \"europarl-v7.de-en.en\"\n",
        "my_file_de = \"europarl-v7.de-en.de\"\n",
        "\n",
        "# May need to adjust these parameters for new translation tasks.\n",
        "size_train = 2000\n",
        "size_val = 1000\n",
        "size_test = 1000\n",
        "\n",
        "train = []\n",
        "val = []\n",
        "test = []\n",
        "\n",
        "de_list = []\n",
        "en_list = []\n",
        "\n",
        "count = 0;\n",
        "with open(my_file_de, encoding=\"utf8\") as fp:\n",
        "  for line in fp:\n",
        "    de_list.append(line)\n",
        "    if count >= (size_train + size_val + size_test - 1):\n",
        "      break\n",
        "    count += 1\n",
        "\n",
        "count = 0;\n",
        "with open(my_file_en, encoding=\"utf8\") as fp:\n",
        "  for line in fp:\n",
        "    en_list.append(line)\n",
        "    if count > (size_train + size_val + size_test - 1):\n",
        "      break\n",
        "    count += 1\n",
        "\n",
        "dataset = list(zip(de_list, en_list))\n",
        "train = dataset[:size_train]\n",
        "val = dataset[size_train:size_train+size_val]\n",
        "test = dataset[size_train+size_val:size_train+size_val+size_test]\n",
        "\n",
        "print(len(train), len(val), len(test))\n",
        "print(train[0])"
      ],
      "metadata": {
        "id": "KI3GHyaY0qrT",
        "colab": {
          "base_uri": "https://localhost:8080/"
        },
        "outputId": "69e3e131-33f6-4573-d984-3c36b506835d"
      },
      "execution_count": 29,
      "outputs": [
        {
          "output_type": "stream",
          "name": "stdout",
          "text": [
            "2000 1000 1000\n",
            "('Wiederaufnahme der Sitzungsperiode\\n', 'Resumption of the session\\n')\n"
          ]
        }
      ]
    },
    {
      "cell_type": "markdown",
      "source": [
        "# 分词器与词表构建"
      ],
      "metadata": {
        "id": "45YD3CV2_jPQ"
      }
    },
    {
      "cell_type": "code",
      "source": [
        "def load_tokenizers():\n",
        "\n",
        "    try:\n",
        "        spacy_de = spacy.load(\"de_core_news_sm\")\n",
        "    except IOError:\n",
        "        os.system(\"python -m spacy download de_core_news_sm\")\n",
        "        spacy_de = spacy.load(\"de_core_news_sm\")\n",
        "\n",
        "    try:\n",
        "        spacy_en = spacy.load(\"en_core_web_sm\")\n",
        "    except IOError:\n",
        "        os.system(\"python -m spacy download en_core_web_sm\")\n",
        "        spacy_en = spacy.load(\"en_core_web_sm\")\n",
        "\n",
        "    return spacy_de, spacy_en"
      ],
      "metadata": {
        "id": "LYJCz4cWBxGU"
      },
      "execution_count": 30,
      "outputs": []
    },
    {
      "cell_type": "code",
      "source": [
        "def tokenize(text, tokenizer):\n",
        "    return [tok.text for tok in tokenizer.tokenizer(text)]\n",
        "\n",
        "\n",
        "def yield_tokens(data_iter, tokenizer, index):\n",
        "    for from_to_tuple in data_iter:\n",
        "        yield tokenizer(from_to_tuple[index])"
      ],
      "metadata": {
        "id": "8QhbfkC2pfrn"
      },
      "execution_count": 31,
      "outputs": []
    },
    {
      "cell_type": "code",
      "source": [
        "def build_vocabulary(spacy_de, spacy_en, train, val, test):\n",
        "    def tokenize_de(text):\n",
        "        return tokenize(text, spacy_de)\n",
        "\n",
        "    def tokenize_en(text):\n",
        "        return tokenize(text, spacy_en)\n",
        "\n",
        "    print(\"Building German Vocabulary ...\")\n",
        "    # train, val, test = datasets.Multi30k(language_pair=(\"de\", \"en\"))\n",
        "    # train, val, test = datasets.IWSLT2017(language_pair=(\"de\", \"en\"))\n",
        "    vocab_src = build_vocab_from_iterator(\n",
        "        yield_tokens(train + val + test, tokenize_de, index=0),\n",
        "        min_freq=2,\n",
        "        specials=[\"<s>\", \"</s>\", \"<blank>\", \"<unk>\"],\n",
        "    )\n",
        "\n",
        "    print(\"Building English Vocabulary ...\")\n",
        "    # train, val, test = datasets.Multi30k(language_pair=(\"de\", \"en\"))\n",
        "    # train, val, test = datasets.IWSLT2017(language_pair=(\"de\", \"en\"))\n",
        "    vocab_tgt = build_vocab_from_iterator(\n",
        "        yield_tokens(train + val + test, tokenize_en, index=1),\n",
        "        min_freq=2,\n",
        "        specials=[\"<s>\", \"</s>\", \"<blank>\", \"<unk>\"],\n",
        "    )\n",
        "\n",
        "    vocab_src.set_default_index(vocab_src[\"<unk>\"])\n",
        "    vocab_tgt.set_default_index(vocab_tgt[\"<unk>\"])\n",
        "\n",
        "    return vocab_src, vocab_tgt\n",
        "\n",
        "\n",
        "def load_vocab(spacy_de, spacy_en):\n",
        "    if not exists(\"vocab.pt\"):\n",
        "        vocab_src, vocab_tgt = build_vocabulary(spacy_de, spacy_en, train, val, test)\n",
        "        torch.save((vocab_src, vocab_tgt), \"vocab.pt\")\n",
        "    else:\n",
        "        vocab_src, vocab_tgt = torch.load(\"vocab.pt\")\n",
        "    print(\"Finished.\\nVocabulary sizes:\")\n",
        "    print(len(vocab_src))\n",
        "    print(len(vocab_tgt))\n",
        "    return vocab_src, vocab_tgt\n",
        "\n",
        "\n",
        "spacy_de, spacy_en = show_example(load_tokenizers)\n",
        "vocab_src, vocab_tgt = show_example(load_vocab, args=[spacy_de, spacy_en])"
      ],
      "metadata": {
        "id": "0a4Gw4eoB5Zh",
        "colab": {
          "base_uri": "https://localhost:8080/"
        },
        "outputId": "c22c34e4-8a85-43df-97ac-0005b2865696"
      },
      "execution_count": 32,
      "outputs": [
        {
          "output_type": "stream",
          "name": "stdout",
          "text": [
            "Building German Vocabulary ...\n",
            "Building English Vocabulary ...\n",
            "Finished.\n",
            "Vocabulary sizes:\n",
            "5415\n",
            "4380\n"
          ]
        }
      ]
    },
    {
      "cell_type": "markdown",
      "source": [
        "# 数据加载器"
      ],
      "metadata": {
        "id": "CEHTey_7V-Cd"
      }
    },
    {
      "cell_type": "markdown",
      "source": [
        "数据批次处理"
      ],
      "metadata": {
        "id": "OXk3eAe0FJde"
      }
    },
    {
      "cell_type": "code",
      "source": [
        "def collate_batch(\n",
        "    batch,\n",
        "    src_pipeline,\n",
        "    tgt_pipeline,\n",
        "    src_vocab,\n",
        "    tgt_vocab,\n",
        "    device,\n",
        "    max_padding=128,\n",
        "    pad_id=2,\n",
        "):\n",
        "    bs_id = torch.tensor([0], device=device)  # <s> token id\n",
        "    eos_id = torch.tensor([1], device=device)  # </s> token id\n",
        "    src_list, tgt_list = [], []\n",
        "    for (_src, _tgt) in batch:\n",
        "        processed_src = torch.cat(\n",
        "            [\n",
        "                bs_id,\n",
        "                torch.tensor(\n",
        "                    src_vocab(src_pipeline(_src)),\n",
        "                    dtype=torch.int64,\n",
        "                    device=device,\n",
        "                ),\n",
        "                eos_id,\n",
        "            ],\n",
        "            0,\n",
        "        )\n",
        "        processed_tgt = torch.cat(\n",
        "            [\n",
        "                bs_id,\n",
        "                torch.tensor(\n",
        "                    tgt_vocab(tgt_pipeline(_tgt)),\n",
        "                    dtype=torch.int64,\n",
        "                    device=device,\n",
        "                ),\n",
        "                eos_id,\n",
        "            ],\n",
        "            0,\n",
        "        )\n",
        "        src_list.append(\n",
        "            # warning - overwrites values for negative values of padding - len\n",
        "            pad(\n",
        "                processed_src,\n",
        "                (\n",
        "                    0,\n",
        "                    max_padding - len(processed_src),\n",
        "                ),\n",
        "                value=pad_id,\n",
        "            )\n",
        "        )\n",
        "        tgt_list.append(\n",
        "            pad(\n",
        "                processed_tgt,\n",
        "                (0, max_padding - len(processed_tgt)),\n",
        "                value=pad_id,\n",
        "            )\n",
        "        )\n",
        "\n",
        "    src = torch.stack(src_list)\n",
        "    tgt = torch.stack(tgt_list)\n",
        "    return (src, tgt)"
      ],
      "metadata": {
        "id": "Okp1_0XoCHGx"
      },
      "execution_count": 33,
      "outputs": []
    },
    {
      "cell_type": "markdown",
      "source": [
        "创建数据加载器"
      ],
      "metadata": {
        "id": "EpU21yBOFOYH"
      }
    },
    {
      "cell_type": "code",
      "source": [
        "def create_dataloaders(\n",
        "    device,\n",
        "    vocab_src,\n",
        "    vocab_tgt,\n",
        "    spacy_de,\n",
        "    spacy_en,\n",
        "    batch_size=12000,\n",
        "    max_padding=128,\n",
        "    is_distributed=True,\n",
        "):\n",
        "    # def create_dataloaders(batch_size=12000):\n",
        "    def tokenize_de(text):\n",
        "        return tokenize(text, spacy_de)\n",
        "\n",
        "    def tokenize_en(text):\n",
        "        return tokenize(text, spacy_en)\n",
        "\n",
        "    def collate_fn(batch):\n",
        "        return collate_batch(\n",
        "            batch,\n",
        "            tokenize_de,\n",
        "            tokenize_en,\n",
        "            vocab_src,\n",
        "            vocab_tgt,\n",
        "            device,\n",
        "            max_padding=max_padding,\n",
        "            pad_id=vocab_src.get_stoi()[\"<blank>\"],\n",
        "        )\n",
        "\n",
        "    # Simple solution\n",
        "    train_iter, valid_iter, test_iter = train, val, test\n",
        "\n",
        "    train_iter_map = to_map_style_dataset(train_iter)\n",
        "    # train_iter.to_map_style_dataset()\n",
        "    # DistributedSampler needs a dataset len()\n",
        "    train_sampler = (\n",
        "        DistributedSampler(train_iter_map) if is_distributed else None\n",
        "    )\n",
        "    valid_iter_map = to_map_style_dataset(valid_iter)\n",
        "    # valid_iter_map = valid_iter.to_map_style_dataset()\n",
        "    valid_sampler = (\n",
        "        DistributedSampler(valid_iter_map) if is_distributed else None\n",
        "    )\n",
        "\n",
        "    train_dataloader = DataLoader(\n",
        "        train_iter_map,\n",
        "        batch_size=batch_size,\n",
        "        shuffle=(train_sampler is None),\n",
        "        sampler=train_sampler,\n",
        "        collate_fn=collate_fn,\n",
        "    )\n",
        "    valid_dataloader = DataLoader(\n",
        "        valid_iter_map,\n",
        "        batch_size=batch_size,\n",
        "        shuffle=(valid_sampler is None),\n",
        "        sampler=valid_sampler,\n",
        "        collate_fn=collate_fn,\n",
        "    )\n",
        "    return train_dataloader, valid_dataloader"
      ],
      "metadata": {
        "id": "6_U6_HEYCLQq"
      },
      "execution_count": 37,
      "outputs": []
    },
    {
      "cell_type": "markdown",
      "source": [
        "# 训练部分"
      ],
      "metadata": {
        "id": "PYneqqZtFVwH"
      }
    },
    {
      "cell_type": "code",
      "source": [
        "def train_worker(\n",
        "    gpu,\n",
        "    ngpus_per_node,\n",
        "    vocab_src,\n",
        "    vocab_tgt,\n",
        "    spacy_de,\n",
        "    spacy_en,\n",
        "    config,\n",
        "    is_distributed=False,\n",
        "):\n",
        "    print(f\"Train worker process using GPU: {gpu} for training\", flush=True)\n",
        "    torch.cuda.set_device(gpu)\n",
        "\n",
        "    pad_idx = vocab_tgt[\"<blank>\"]\n",
        "    d_model = 512\n",
        "    # print(\"Got to this point(1)!!!\")\n",
        "    model = make_model(len(vocab_src), len(vocab_tgt), N=6)\n",
        "    # print(\"Got to this point(2)!!!\")\n",
        "    model.cuda(gpu)\n",
        "    # print(\"Got to this point(3)!!!\")\n",
        "    module = model\n",
        "    # print(\"Got to this point(4)!!!\")\n",
        "    is_main_process = True\n",
        "    if is_distributed:\n",
        "        dist.init_process_group(\n",
        "            \"nccl\", init_method=\"env://\", rank=gpu, world_size=ngpus_per_node\n",
        "        )\n",
        "        model = DDP(model, device_ids=[gpu])\n",
        "        module = model.module\n",
        "        is_main_process = gpu == 0\n",
        "\n",
        "    criterion = LabelSmoothing(\n",
        "        size=len(vocab_tgt), padding_idx=pad_idx, smoothing=0.1\n",
        "    )\n",
        "    criterion.cuda(gpu)\n",
        "    # print(\"Got to this point(5)!!!\")\n",
        "    #############################\n",
        "    ## PROBLEM IS HERE BELOW!  ##\n",
        "    #############################\n",
        "    train_dataloader, valid_dataloader = create_dataloaders(\n",
        "        gpu,\n",
        "        vocab_src,\n",
        "        vocab_tgt,\n",
        "        spacy_de,\n",
        "        spacy_en,\n",
        "        batch_size=config[\"batch_size\"] // ngpus_per_node,\n",
        "        max_padding=config[\"max_padding\"],\n",
        "        is_distributed=is_distributed,\n",
        "    )\n",
        "    # print(\"Got to this point(6)!!!\")\n",
        "    optimizer = torch.optim.Adam(\n",
        "        model.parameters(), lr=config[\"base_lr\"], betas=(0.9, 0.98), eps=1e-9\n",
        "    )\n",
        "    lr_scheduler = LambdaLR(\n",
        "        optimizer=optimizer,\n",
        "        lr_lambda=lambda step: rate(\n",
        "            step, d_model, factor=1, warmup=config[\"warmup\"]\n",
        "        ),\n",
        "    )\n",
        "    train_state = TrainState()\n",
        "    for epoch in range(config[\"num_epochs\"]):\n",
        "        if is_distributed:\n",
        "            train_dataloader.sampler.set_epoch(epoch)\n",
        "            valid_dataloader.sampler.set_epoch(epoch)\n",
        "\n",
        "        model.train()\n",
        "        print(f\"[GPU{gpu}] Epoch {epoch} Training ====\", flush=True)\n",
        "        _, train_state = run_epoch(\n",
        "            (Batch(b[0], b[1], pad_idx) for b in train_dataloader),\n",
        "            model,\n",
        "            SimpleLossCompute(module.generator, criterion),\n",
        "            optimizer,\n",
        "            lr_scheduler,\n",
        "            mode=\"train+log\",\n",
        "            accum_iter=config[\"accum_iter\"],\n",
        "            train_state=train_state,\n",
        "        )\n",
        "\n",
        "        GPUtil.showUtilization()\n",
        "        if is_main_process:\n",
        "            file_path = \"%s%.2d.pt\" % (config[\"file_prefix\"], epoch)\n",
        "            torch.save(module.state_dict(), file_path)\n",
        "        torch.cuda.empty_cache()\n",
        "\n",
        "        print(f\"[GPU{gpu}] Epoch {epoch} Validation ====\", flush=True)\n",
        "        model.eval()\n",
        "        sloss = run_epoch(\n",
        "            (Batch(b[0], b[1], pad_idx) for b in valid_dataloader),\n",
        "            model,\\\n",
        "\n",
        "            SimpleLossCompute(module.generator, criterion),\n",
        "            DummyOptimizer(),\n",
        "            DummyScheduler(),\n",
        "            mode=\"eval\",\n",
        "        )\n",
        "        print('Validation Loss: ', sloss[0].item())\n",
        "        torch.cuda.empty_cache()\n",
        "\n",
        "    if is_main_process:\n",
        "        file_path = \"%sfinal.pt\" % config[\"file_prefix\"]\n",
        "        torch.save(module.state_dict(), file_path)\n",
        "\n",
        "\n",
        "def train_distributed_model(vocab_src, vocab_tgt, spacy_de, spacy_en, config):\n",
        "    from the_annotated_transformer import train_worker\n",
        "\n",
        "    ngpus = torch.cuda.device_count()\n",
        "    os.environ[\"MASTER_ADDR\"] = \"localhost\"\n",
        "    os.environ[\"MASTER_PORT\"] = \"12356\"\n",
        "    print(f\"Number of GPUs detected: {ngpus}\")\n",
        "    print(\"Spawning training processes ...\")\n",
        "    mp.spawn(\n",
        "        train_worker,\n",
        "        nprocs=ngpus,\n",
        "        args=(ngpus, vocab_src, vocab_tgt, spacy_de, spacy_en, config, True),\n",
        "    )\n",
        "\n",
        "\n",
        "def train_model(vocab_src, vocab_tgt, spacy_de, spacy_en, config):\n",
        "    if config[\"distributed\"]:\n",
        "        train_distributed_model(\n",
        "            vocab_src, vocab_tgt, spacy_de, spacy_en, config\n",
        "        )\n",
        "    else:\n",
        "        train_worker(\n",
        "            0, 1, vocab_src, vocab_tgt, spacy_de, spacy_en, config, False\n",
        "        )\n",
        "\n",
        "\n",
        "def load_trained_model():\n",
        "    config = {\n",
        "        \"batch_size\": 1,\n",
        "        \"distributed\": False,\n",
        "        \"num_epochs\": 3,\n",
        "        \"accum_iter\": 10,\n",
        "        \"base_lr\": 1.0,\n",
        "        \"max_padding\": 72,\n",
        "        \"warmup\": 3000,\n",
        "        \"file_prefix\": \"multi30k_model_\",\n",
        "    }\n",
        "    model_path = \"multi30k_model_final.pt\"\n",
        "\n",
        "    if not exists(model_path):\n",
        "        train_model(vocab_src, vocab_tgt, spacy_de, spacy_en, config)\n",
        "\n",
        "    model = make_model(len(vocab_src), len(vocab_tgt), N=6)\n",
        "    model.load_state_dict(torch.load(\"multi30k_model_final.pt\"))\n",
        "    return model\n",
        "\n",
        "\n",
        "def train_new_model():\n",
        "    config = {\n",
        "      \"batch_size\": 5,\n",
        "      \"distributed\": False,\n",
        "      \"num_epochs\": 3,\n",
        "      \"accum_iter\": 10,\n",
        "      \"base_lr\": 1.0,\n",
        "      \"max_padding\": 72,\n",
        "      \"warmup\": 3000,\n",
        "      \"file_prefix\": \"multi30k_model_\",\n",
        "    }\n",
        "    train_model(vocab_src, vocab_tgt, spacy_de, spacy_en, config)\n",
        "\n",
        "    model = make_model(len(vocab_src), len(vocab_tgt), N=6)\n",
        "    model.load_state_dict(torch.load(\"multi30k_model_final.pt\"))\n",
        "    return model"
      ],
      "metadata": {
        "id": "skiS2QUTCLpn"
      },
      "execution_count": 39,
      "outputs": []
    },
    {
      "cell_type": "code",
      "source": [
        "model = train_new_model()"
      ],
      "metadata": {
        "colab": {
          "base_uri": "https://localhost:8080/"
        },
        "id": "o8gdmIhUnjIj",
        "outputId": "00bf9e1b-c8d0-4005-db46-17a4ff62ee58"
      },
      "execution_count": 41,
      "outputs": [
        {
          "output_type": "stream",
          "name": "stdout",
          "text": [
            "Train worker process using GPU: 0 for training\n",
            "[GPU0] Epoch 0 Training ====\n",
            "Epoch Step:      1 | Accumulation Step:   1 | Loss:   7.41 | Tokens / Sec:  2177.9 | Learning Rate: 5.4e-07\n",
            "Epoch Step:     41 | Accumulation Step:   5 | Loss:   7.22 | Tokens / Sec:  2267.8 | Learning Rate: 1.1e-05\n",
            "Epoch Step:     81 | Accumulation Step:   9 | Loss:   6.67 | Tokens / Sec:  2044.0 | Learning Rate: 2.2e-05\n",
            "Epoch Step:    121 | Accumulation Step:  13 | Loss:   6.44 | Tokens / Sec:  2246.5 | Learning Rate: 3.3e-05\n",
            "Epoch Step:    161 | Accumulation Step:  17 | Loss:   6.28 | Tokens / Sec:  2100.7 | Learning Rate: 4.4e-05\n",
            "Epoch Step:    201 | Accumulation Step:  21 | Loss:   6.17 | Tokens / Sec:  2183.4 | Learning Rate: 5.4e-05\n",
            "Epoch Step:    241 | Accumulation Step:  25 | Loss:   6.10 | Tokens / Sec:  2187.0 | Learning Rate: 6.5e-05\n",
            "Epoch Step:    281 | Accumulation Step:  29 | Loss:   6.16 | Tokens / Sec:  2106.0 | Learning Rate: 7.6e-05\n",
            "Epoch Step:    321 | Accumulation Step:  33 | Loss:   5.87 | Tokens / Sec:  2190.5 | Learning Rate: 8.7e-05\n",
            "Epoch Step:    361 | Accumulation Step:  37 | Loss:   5.79 | Tokens / Sec:  2294.4 | Learning Rate: 9.7e-05\n",
            "| ID | GPU | MEM |\n",
            "------------------\n",
            "|  0 | 57% | 13% |\n",
            "[GPU0] Epoch 0 Validation ====\n",
            "Validation Loss:  5.668790817260742\n",
            "[GPU0] Epoch 1 Training ====\n",
            "Epoch Step:      1 | Accumulation Step:   1 | Loss:   5.40 | Tokens / Sec:  1781.7 | Learning Rate: 1.1e-04\n",
            "Epoch Step:     41 | Accumulation Step:   5 | Loss:   5.57 | Tokens / Sec:  2266.2 | Learning Rate: 1.2e-04\n",
            "Epoch Step:     81 | Accumulation Step:   9 | Loss:   5.40 | Tokens / Sec:  2262.8 | Learning Rate: 1.3e-04\n",
            "Epoch Step:    121 | Accumulation Step:  13 | Loss:   5.41 | Tokens / Sec:  2183.0 | Learning Rate: 1.4e-04\n",
            "Epoch Step:    161 | Accumulation Step:  17 | Loss:   5.06 | Tokens / Sec:  2279.7 | Learning Rate: 1.5e-04\n",
            "Epoch Step:    201 | Accumulation Step:  21 | Loss:   5.02 | Tokens / Sec:  2311.0 | Learning Rate: 1.6e-04\n",
            "Epoch Step:    241 | Accumulation Step:  25 | Loss:   5.04 | Tokens / Sec:  2196.7 | Learning Rate: 1.7e-04\n",
            "Epoch Step:    281 | Accumulation Step:  29 | Loss:   4.37 | Tokens / Sec:  2086.5 | Learning Rate: 1.8e-04\n",
            "Epoch Step:    321 | Accumulation Step:  33 | Loss:   5.03 | Tokens / Sec:  2188.0 | Learning Rate: 1.9e-04\n",
            "Epoch Step:    361 | Accumulation Step:  37 | Loss:   4.96 | Tokens / Sec:  2136.7 | Learning Rate: 2.0e-04\n",
            "| ID | GPU | MEM |\n",
            "------------------\n",
            "|  0 | 52% | 13% |\n",
            "[GPU0] Epoch 1 Validation ====\n",
            "Validation Loss:  4.927951335906982\n",
            "[GPU0] Epoch 2 Training ====\n",
            "Epoch Step:      1 | Accumulation Step:   1 | Loss:   4.87 | Tokens / Sec:  1625.4 | Learning Rate: 2.2e-04\n",
            "Epoch Step:     41 | Accumulation Step:   5 | Loss:   4.93 | Tokens / Sec:  1812.1 | Learning Rate: 2.3e-04\n",
            "Epoch Step:     81 | Accumulation Step:   9 | Loss:   4.65 | Tokens / Sec:  2357.4 | Learning Rate: 2.4e-04\n",
            "Epoch Step:    121 | Accumulation Step:  13 | Loss:   4.54 | Tokens / Sec:  2119.0 | Learning Rate: 2.5e-04\n",
            "Epoch Step:    161 | Accumulation Step:  17 | Loss:   4.71 | Tokens / Sec:  2220.4 | Learning Rate: 2.6e-04\n",
            "Epoch Step:    201 | Accumulation Step:  21 | Loss:   4.77 | Tokens / Sec:  2230.2 | Learning Rate: 2.7e-04\n",
            "Epoch Step:    241 | Accumulation Step:  25 | Loss:   4.79 | Tokens / Sec:  2243.1 | Learning Rate: 2.8e-04\n",
            "Epoch Step:    281 | Accumulation Step:  29 | Loss:   4.42 | Tokens / Sec:  2360.8 | Learning Rate: 2.9e-04\n",
            "Epoch Step:    321 | Accumulation Step:  33 | Loss:   4.66 | Tokens / Sec:  2125.6 | Learning Rate: 3.0e-04\n",
            "Epoch Step:    361 | Accumulation Step:  37 | Loss:   3.94 | Tokens / Sec:  2280.8 | Learning Rate: 3.1e-04\n",
            "| ID | GPU | MEM |\n",
            "------------------\n",
            "|  0 | 56% | 13% |\n",
            "[GPU0] Epoch 2 Validation ====\n",
            "Validation Loss:  4.628429889678955\n"
          ]
        }
      ]
    }
  ],
  "metadata": {
    "colab": {
      "provenance": [],
      "machine_shape": "hm",
      "gpuType": "T4"
    },
    "kernelspec": {
      "display_name": "Python 3",
      "name": "python3"
    },
    "language_info": {
      "name": "python"
    },
    "accelerator": "GPU"
  },
  "nbformat": 4,
  "nbformat_minor": 0
}