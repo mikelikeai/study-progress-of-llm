{
  "nbformat": 4,
  "nbformat_minor": 0,
  "metadata": {
    "colab": {
      "provenance": []
    },
    "kernelspec": {
      "name": "python3",
      "display_name": "Python 3"
    },
    "language_info": {
      "name": "python"
    }
  },
  "cells": [
    {
      "cell_type": "code",
      "source": [
        "!pip install langchain\n",
        "!pip install langchain_community\n",
        "!pip install chromadb\n",
        "!pip install -Uq lark\n",
        "!pip install wikipedia\n",
        "!pip install tiktoken"
      ],
      "metadata": {
        "id": "vEAUidwAXKhx"
      },
      "execution_count": null,
      "outputs": []
    },
    {
      "cell_type": "code",
      "source": [
        "# api key和模型名称\n",
        "openai_api_key = 'your api key'\n",
        "model_name = 'gpt-3.5-turbo'"
      ],
      "metadata": {
        "id": "JRqF-De-8x97"
      },
      "execution_count": null,
      "outputs": []
    },
    {
      "cell_type": "markdown",
      "source": [
        "# 2.2 模型、提示和解析器"
      ],
      "metadata": {
        "id": "mBORcTbM9g6j"
      }
    },
    {
      "cell_type": "markdown",
      "source": [
        "提示"
      ],
      "metadata": {
        "id": "tFhhNZLyxLly"
      }
    },
    {
      "cell_type": "code",
      "source": [
        "from langchain.prompts import ChatPromptTemplate\n",
        "\n",
        "# step1：构造一个提示模版字符串\n",
        "prompt_template_str = \"\"\"请把下面三个反引号分隔的文本转换成{style}的风格。\\\n",
        "文本: ```{text}```\n",
        "\"\"\"\n",
        "\n",
        "# step2：构造提示模板\n",
        "prompt_template = ChatPromptTemplate.from_template(prompt_template_str)\n",
        "\n",
        "# step3：使用提示模板\n",
        "user_comment = \"\"\"\n",
        "上次我在你们店铺买了一双鞋子，结果到货后竟然发现一只白的，一直黑的，简直不敢相信，没见过这么马虎的，太让人生气了。我现在要求退货。\n",
        "\"\"\"\n",
        "style = \"\"\"\n",
        "温和、谦逊\n",
        "\"\"\"\n",
        "user_messages = prompt_template.format_messages(style=style, text=user_comment)\n",
        "user_messages[0]"
      ],
      "metadata": {
        "colab": {
          "base_uri": "https://localhost:8080/"
        },
        "id": "syahd5eh_sF7",
        "outputId": "a48d93f5-4ae3-4115-86b7-b02c44ef18a2"
      },
      "execution_count": null,
      "outputs": [
        {
          "output_type": "execute_result",
          "data": {
            "text/plain": [
              "HumanMessage(content='请把下面三个反引号分隔的文本转换成\\n温和、谦逊\\n的风格。文本: ```\\n上次我在你们店铺买了一双鞋子，结果到货后竟然发现一只白的，一直黑的，简直不敢相信，没见过这么马虎的，太让人生气了。我现在要求退货。\\n```\\n', additional_kwargs={}, response_metadata={})"
            ]
          },
          "metadata": {},
          "execution_count": 24
        }
      ]
    },
    {
      "cell_type": "markdown",
      "source": [
        "模型"
      ],
      "metadata": {
        "id": "Zy8U4VQWxOkV"
      }
    },
    {
      "cell_type": "code",
      "source": [
        "from langchain.chat_models import ChatOpenAI\n",
        "\n",
        "chat = ChatOpenAI(model_name=model_name, temperature=0.0, openai_api_key=openai_api_key)\n",
        "response = chat(user_messages)\n",
        "response.content"
      ],
      "metadata": {
        "colab": {
          "base_uri": "https://localhost:8080/",
          "height": 35
        },
        "id": "uTP2CocV9jEb",
        "outputId": "b66cc970-4e8e-4b36-e4d4-1c9cd3dba531"
      },
      "execution_count": null,
      "outputs": [
        {
          "output_type": "execute_result",
          "data": {
            "text/plain": [
              "'亲爱的店主，之前我在您的店铺购买了一双鞋子，但收到货物后发现一只是白色的，另一只是黑色的，实在让我感到惊讶。这样的疏忽让我有些生气，我想申请退货。希望您能理解我的情况，谢谢。'"
            ],
            "application/vnd.google.colaboratory.intrinsic+json": {
              "type": "string"
            }
          },
          "metadata": {},
          "execution_count": 25
        }
      ]
    },
    {
      "cell_type": "markdown",
      "source": [
        "解析"
      ],
      "metadata": {
        "id": "MzSPsNT0xSro"
      }
    },
    {
      "cell_type": "code",
      "source": [
        "from langchain.prompts import ChatPromptTemplate\n",
        "from langchain.output_parsers import ResponseSchema\n",
        "from langchain.output_parsers import StructuredOutputParser\n",
        "\n",
        "text = \"\"\"\n",
        "1609年9月11日，受聘于荷兰东印度公司的英国航海家亨利·哈德逊（Henry Hudson）乘船来到今纽约州探险，\\\n",
        "并将大量土产带回荷兰，许多荷兰商人对这片土地产生了浓厚兴趣，他们来到这里寻求与当地原住民进行贸易，\\\n",
        "并建立了殖民地“新荷兰”（New Netherland）。荷兰殖民者于1614年在新荷兰建立贸易点Fort Nassau（今奥尔巴尼市附近）；\\\n",
        "于1624年建立贸易点Fort Orange（今奥尔巴尼市）；于1625年建立贸易点Fort Amsterdam（今纽约市）。\n",
        "\"\"\"\n",
        "\n",
        "# step1：编写提示。\n",
        "prompt_template_str = \"\"\"\n",
        "请从以下```包括的内容中提取以下信息。\n",
        "姓名：提取所有的姓名，并将它们输出为逗号分隔的Python列表, 如果没有找到该信息，则输出none。\n",
        "城市：提取所有的城市名称，并将它们输出为逗号分隔的Python列表, 如果没有找到该信息，则输出none。\n",
        "\n",
        "文本: {text}\n",
        "{format_instructions}\n",
        "\"\"\"\n",
        "\n",
        "# step2：依据输出结构构造标准化输出模式类（ResponseSchema）与解析类（StructuredOutputParser）。\n",
        "name_schema = ResponseSchema(name=\"姓名\",\n",
        "                description=\"提取所有的姓名，并将它们输出为逗号分隔的Python列表, 如果没有找到该信息，则输出none。\")\n",
        "\n",
        "city_schema = ResponseSchema(name=\"城市\",\n",
        "                description=\"提取所有的城市名称，并将它们输出为逗号分隔的Python列表, 如果没有找到该信息，则输出none。\")\n",
        "response_schemas = [name_schema, city_schema]\n",
        "output_parser = StructuredOutputParser.from_response_schemas(response_schemas)\n",
        "\n",
        "# step3：依据StructuredOutputParser生成完整的提示。\n",
        "format_instructions = output_parser.get_format_instructions()\n",
        "prompt_template = ChatPromptTemplate.from_template(template=prompt_template_str)\n",
        "user_messages = prompt_template.format_messages(text=text, format_instructions=format_instructions)\n",
        "print('提示：', user_messages[0])\n",
        "\n",
        "\n",
        "# step4：完整的提示送入大模型返回结果。\n",
        "response = chat(user_messages)\n",
        "print(\"结果:\", response.content)\n",
        "\n",
        "# step5：依据StructuredOutputParser对输出的结果进行解析。\n",
        "response_dict = output_parser.parse(response.content)\n",
        "print(\"解析后类型:\", type(response_dict))\n",
        "print(\"解析后内容:\", response_dict)\n"
      ],
      "metadata": {
        "colab": {
          "base_uri": "https://localhost:8080/"
        },
        "id": "tp3P24mtJ_te",
        "outputId": "78b8064b-aeac-4acc-8d93-7b781a8428a5"
      },
      "execution_count": null,
      "outputs": [
        {
          "output_type": "stream",
          "name": "stdout",
          "text": [
            "提示： content='\\n请从以下```包括的内容中提取以下信息。\\n姓名：提取所有的姓名，并将它们输出为逗号分隔的Python列表, 如果没有找到该信息，则输出none。\\n城市：提取所有的城市名称，并将它们输出为逗号分隔的Python列表, 如果没有找到该信息，则输出none。\\n\\n文本: \\n1609年9月11日，受聘于荷兰东印度公司的英国航海家亨利·哈德逊（Henry Hudson）乘船来到今纽约州探险，并将大量土产带回荷兰，许多荷兰商人对这片土地产生了浓厚兴趣，他们来到这里寻求与当地原住民进行贸易，并建立了殖民地“新荷兰”（New Netherland）。荷兰殖民者于1614年在新荷兰建立贸易点Fort Nassau（今奥尔巴尼市附近）；于1624年建立贸易点Fort Orange（今奥尔巴尼市）；于1625年建立贸易点Fort Amsterdam（今纽约市）。\\n\\nThe output should be a markdown code snippet formatted in the following schema, including the leading and trailing \"```json\" and \"```\":\\n\\n```json\\n{\\n\\t\"姓名\": string  // 提取所有的姓名，并将它们输出为逗号分隔的Python列表, 如果没有找到该信息，则输出none。\\n\\t\"城市\": string  // 提取所有的城市名称，并将它们输出为逗号分隔的Python列表, 如果没有找到该信息，则输出none。\\n}\\n```\\n' additional_kwargs={} response_metadata={}\n",
            "结果: ```json\n",
            "{\n",
            "\t\"姓名\": [\"亨利·哈德逊\"],\n",
            "\t\"城市\": [\"纽约州\", \"奥尔巴尼市\", \"纽约市\"]\n",
            "}\n",
            "```\n",
            "解析后类型: <class 'dict'>\n",
            "解析后内容: {'姓名': ['亨利·哈德逊'], '城市': ['纽约州', '奥尔巴尼市', '纽约市']}\n"
          ]
        }
      ]
    },
    {
      "cell_type": "markdown",
      "source": [
        "# 2.3 记忆机制"
      ],
      "metadata": {
        "id": "hGH_OtZKSJ6B"
      }
    },
    {
      "cell_type": "markdown",
      "source": [
        "对话缓存储存 (ConversationBufferMemory）"
      ],
      "metadata": {
        "id": "CFcBsMGHytVI"
      }
    },
    {
      "cell_type": "code",
      "source": [
        "from langchain.chains import ConversationChain\n",
        "from langchain.chat_models import ChatOpenAI\n",
        "from langchain.memory import ConversationBufferMemory\n",
        "\n",
        "llm = ChatOpenAI(model_name=model_name, temperature=0.0, openai_api_key=openai_api_key)\n",
        "memory = ConversationBufferMemory()\n",
        "conversation_chain = ConversationChain(llm=llm, memory=memory, verbose=True)"
      ],
      "metadata": {
        "id": "_Pcgx2dsSK_W"
      },
      "execution_count": null,
      "outputs": []
    },
    {
      "cell_type": "code",
      "source": [
        "conversation_chain.predict(input=\"what is my name?\")"
      ],
      "metadata": {
        "colab": {
          "base_uri": "https://localhost:8080/",
          "height": 315
        },
        "id": "40CuzlsTSlAY",
        "outputId": "6319e103-ff95-48e9-b46e-a3e3d515b7e4"
      },
      "execution_count": null,
      "outputs": [
        {
          "output_type": "stream",
          "name": "stdout",
          "text": [
            "\n",
            "\n",
            "\u001b[1m> Entering new ConversationChain chain...\u001b[0m\n",
            "Prompt after formatting:\n",
            "\u001b[32;1m\u001b[1;3mThe following is a friendly conversation between a human and an AI. The AI is talkative and provides lots of specific details from its context. If the AI does not know the answer to a question, it truthfully says it does not know.\n",
            "\n",
            "Current conversation:\n",
            "Human: my name is jack\n",
            "AI: Hello Jack! It's nice to meet you. How can I assist you today?\n",
            "Human: what is the result of 1 plus 1?\n",
            "AI: The result of 1 plus 1 is 2. This is a basic arithmetic operation where you add the two numbers together to get the sum. Is there anything else you would like to know?\n",
            "Human: what is my name?\n",
            "AI:\u001b[0m\n",
            "\n",
            "\u001b[1m> Finished chain.\u001b[0m\n"
          ]
        },
        {
          "output_type": "execute_result",
          "data": {
            "text/plain": [
              "'Your name is Jack. You mentioned it at the beginning of our conversation. Is there anything else you would like to ask, Jack?'"
            ],
            "application/vnd.google.colaboratory.intrinsic+json": {
              "type": "string"
            }
          },
          "metadata": {},
          "execution_count": 48
        }
      ]
    },
    {
      "cell_type": "markdown",
      "source": [
        "对话缓存窗口储存 (ConversationBufferWindowMemory）"
      ],
      "metadata": {
        "id": "urYCKfSOUMS8"
      }
    },
    {
      "cell_type": "code",
      "source": [
        "from langchain.memory import ConversationBufferWindowMemory\n",
        "\n",
        "memory = ConversationBufferWindowMemory(k=2)\n",
        "conversation_chain = ConversationChain(llm=llm, memory=memory, verbose=True)\n",
        "\n",
        "print(\"对话一：\")\n",
        "print(conversation_chain.predict(input=\"my name is jack\"))\n",
        "\n",
        "print(\"对话二：\")\n",
        "print(conversation_chain.predict(input=\"what is the result of 1 plus 1?\"))\n",
        "\n",
        "print(\"对话三：\")\n",
        "print(conversation_chain.predict(input=\"what is my name?\"))\n"
      ],
      "metadata": {
        "colab": {
          "base_uri": "https://localhost:8080/"
        },
        "id": "yXv5F9Zk-Wzz",
        "outputId": "27450d7d-3b88-49f9-8988-8d0fc4c72c7f"
      },
      "execution_count": null,
      "outputs": [
        {
          "output_type": "stream",
          "name": "stdout",
          "text": [
            "对话一：\n",
            "\n",
            "\n",
            "\u001b[1m> Entering new ConversationChain chain...\u001b[0m\n",
            "Prompt after formatting:\n",
            "\u001b[32;1m\u001b[1;3mThe following is a friendly conversation between a human and an AI. The AI is talkative and provides lots of specific details from its context. If the AI does not know the answer to a question, it truthfully says it does not know.\n",
            "\n",
            "Current conversation:\n",
            "\n",
            "Human: my name is jack\n",
            "AI:\u001b[0m\n",
            "\n",
            "\u001b[1m> Finished chain.\u001b[0m\n",
            "Hello Jack! It's nice to meet you. How can I assist you today?\n",
            "对话二：\n",
            "\n",
            "\n",
            "\u001b[1m> Entering new ConversationChain chain...\u001b[0m\n",
            "Prompt after formatting:\n",
            "\u001b[32;1m\u001b[1;3mThe following is a friendly conversation between a human and an AI. The AI is talkative and provides lots of specific details from its context. If the AI does not know the answer to a question, it truthfully says it does not know.\n",
            "\n",
            "Current conversation:\n",
            "Human: my name is jack\n",
            "AI: Hello Jack! It's nice to meet you. How can I assist you today?\n",
            "Human: what is the result of 1 plus 1?\n",
            "AI:\u001b[0m\n",
            "\n",
            "\u001b[1m> Finished chain.\u001b[0m\n",
            "The result of 1 plus 1 is 2. It's a simple addition problem where you add the two numbers together to get the sum. Is there anything else you would like to know or discuss, Jack?\n",
            "对话三：\n",
            "\n",
            "\n",
            "\u001b[1m> Entering new ConversationChain chain...\u001b[0m\n",
            "Prompt after formatting:\n",
            "\u001b[32;1m\u001b[1;3mThe following is a friendly conversation between a human and an AI. The AI is talkative and provides lots of specific details from its context. If the AI does not know the answer to a question, it truthfully says it does not know.\n",
            "\n",
            "Current conversation:\n",
            "Human: my name is jack\n",
            "AI: Hello Jack! It's nice to meet you. How can I assist you today?\n",
            "Human: what is the result of 1 plus 1?\n",
            "AI: The result of 1 plus 1 is 2. It's a simple addition problem where you add the two numbers together to get the sum. Is there anything else you would like to know or discuss, Jack?\n",
            "Human: what is my name?\n",
            "AI:\u001b[0m\n",
            "\n",
            "\u001b[1m> Finished chain.\u001b[0m\n",
            "Your name is Jack, as you mentioned earlier. Is there anything else you would like to know or talk about, Jack?\n"
          ]
        }
      ]
    },
    {
      "cell_type": "markdown",
      "source": [
        "对话令牌缓存储存"
      ],
      "metadata": {
        "id": "tmgPboEaZIT1"
      }
    },
    {
      "cell_type": "code",
      "source": [
        "from langchain.llms import OpenAI\n",
        "from langchain.memory import ConversationTokenBufferMemory\n",
        "\n",
        "memory = ConversationTokenBufferMemory(llm=llm, max_token_limit=50)\n",
        "memory.save_context({\"input\": \"my name is jack\"}, {\"output\": \"Hello Jack! It's nice to meet you. How can I assist you today?\"})\n",
        "memory.save_context({\"input\": \"what is the result of 1 plus 1?\"}, {\"output\": \"The result of 1 plus 1 is 2. It's a simple addition problem with a straightforward answer. Is there anything else you'd like to know or discuss?\"})\n",
        "memory.load_memory_variables({})"
      ],
      "metadata": {
        "colab": {
          "base_uri": "https://localhost:8080/"
        },
        "id": "BrmToYsKZGta",
        "outputId": "b96ded11-c7db-49f9-928f-9ed563a972b1"
      },
      "execution_count": null,
      "outputs": [
        {
          "output_type": "execute_result",
          "data": {
            "text/plain": [
              "{'history': \"AI: The result of 1 plus 1 is 2. It's a simple addition problem with a straightforward answer. Is there anything else you'd like to know or discuss?\"}"
            ]
          },
          "metadata": {},
          "execution_count": 52
        }
      ]
    },
    {
      "cell_type": "markdown",
      "source": [
        "对话摘要缓存储存"
      ],
      "metadata": {
        "id": "95oQC0t1aLdH"
      }
    },
    {
      "cell_type": "code",
      "source": [
        "from langchain.chains import ConversationChain\n",
        "from langchain.chat_models import ChatOpenAI\n",
        "from langchain.memory import ConversationSummaryBufferMemory\n",
        "\n",
        "memory = ConversationSummaryBufferMemory(llm=llm, max_token_limit=70)\n",
        "memory.save_context({\"input\": \"请给我讲一个探险故事。\"}, {\"output\": \"1609年9月11日，受聘于荷兰东印度公司的英国航海家亨利·哈德逊（Henry Hudson）乘船来到今纽约州探险，并将大量土产带回荷兰，许多荷兰商人对这片土地产生了浓厚兴趣，他们来到这里寻求与当地原住民进行贸易，并建立了殖民地“新荷兰”（New Netherland）。荷兰殖民者于1614年在新荷兰建立贸易点Fort Nassau（今奥尔巴尼市附近）；于1624年建立贸易点Fort Orange（今奥尔巴尼市）；于1625年建立贸易点Fort Amsterdam（今纽约市）。\"})\n",
        "memory.save_context({\"input\": \"谢谢您，很好的一个故事。\"}, {\"output\": \"不客气，还有什么需要帮助的吗？\"})\n",
        "print(memory.load_memory_variables({})['history'])"
      ],
      "metadata": {
        "colab": {
          "base_uri": "https://localhost:8080/"
        },
        "id": "YBGJ1wtmaMsg",
        "outputId": "2bd62d33-2ecf-4c2f-f27f-7baa26359db6"
      },
      "execution_count": null,
      "outputs": [
        {
          "output_type": "stream",
          "name": "stdout",
          "text": [
            "System: The human asks the AI to tell an adventure story. The AI recounts the expedition of English navigator Henry Hudson in 1609, who explored what is now New York State and brought back many goods to the Netherlands. This sparked interest among Dutch merchants, leading to the establishment of the colony of New Netherland. The Dutch settlers set up trading posts like Fort Nassau, Fort Orange, and Fort Amsterdam in the region.\n",
            "Human: 谢谢您，很好的一个故事。\n",
            "AI: 不客气，还有什么需要帮助的吗？\n"
          ]
        }
      ]
    },
    {
      "cell_type": "code",
      "source": [
        "conversation = ConversationChain(llm=llm, memory=memory, verbose=True)\n",
        "conversation.predict(input=\"亨利·哈德逊是哪一年来到了纽约州进行探险？\")"
      ],
      "metadata": {
        "colab": {
          "base_uri": "https://localhost:8080/",
          "height": 298
        },
        "id": "KX-ROgFPbCD4",
        "outputId": "67e13e99-073f-4310-ab4f-be4777af1243"
      },
      "execution_count": null,
      "outputs": [
        {
          "output_type": "stream",
          "name": "stdout",
          "text": [
            "\n",
            "\n",
            "\u001b[1m> Entering new ConversationChain chain...\u001b[0m\n",
            "Prompt after formatting:\n",
            "\u001b[32;1m\u001b[1;3mThe following is a friendly conversation between a human and an AI. The AI is talkative and provides lots of specific details from its context. If the AI does not know the answer to a question, it truthfully says it does not know.\n",
            "\n",
            "Current conversation:\n",
            "System: The human asks the AI to tell an adventure story. The AI recounts the expedition of English navigator Henry Hudson in 1609, who explored what is now New York State and brought back many goods to the Netherlands. This sparked interest among Dutch merchants, leading to the establishment of the colony of New Netherland. The Dutch settlers set up trading posts like Fort Nassau, Fort Orange, and Fort Amsterdam in the region.\n",
            "Human: 谢谢您，很好的一个故事。\n",
            "AI: 不客气，还有什么需要帮助的吗？\n",
            "Human: 亨利·哈德逊是哪一年来到了纽约州进行探险？\n",
            "AI:\u001b[0m\n",
            "\n",
            "\u001b[1m> Finished chain.\u001b[0m\n"
          ]
        },
        {
          "output_type": "execute_result",
          "data": {
            "text/plain": [
              "'亨利·哈德逊是在1609年来到纽约州进行探险的。'"
            ],
            "application/vnd.google.colaboratory.intrinsic+json": {
              "type": "string"
            }
          },
          "metadata": {},
          "execution_count": 54
        }
      ]
    },
    {
      "cell_type": "markdown",
      "source": [
        "# 2.4 模型链结构"
      ],
      "metadata": {
        "id": "vPLZZlOPWqBH"
      }
    },
    {
      "cell_type": "markdown",
      "source": [
        "大语言模型链\n",
        "\n",
        "输入 -》 链 =》 输出"
      ],
      "metadata": {
        "id": "6tIzfUR-Hq8U"
      }
    },
    {
      "cell_type": "code",
      "source": [
        "import warnings\n",
        "warnings.filterwarnings('ignore')\n",
        "\n",
        "from langchain.chat_models import ChatOpenAI\n",
        "from langchain.prompts import ChatPromptTemplate\n",
        "from langchain.chains import LLMChain\n",
        "\n",
        "llm = ChatOpenAI(model_name=model_name, temperature=0.0, openai_api_key=openai_api_key)\n",
        "prompt = ChatPromptTemplate.from_template(\"请用一句话描述算法{algorithm_name}的主要原理。\")\n",
        "chain = LLMChain(llm=llm, prompt=prompt)"
      ],
      "metadata": {
        "id": "nC9auh-lWr41"
      },
      "execution_count": null,
      "outputs": []
    },
    {
      "cell_type": "code",
      "source": [
        "algorithm_name = \"gpt\"\n",
        "chain.run(algorithm_name)"
      ],
      "metadata": {
        "colab": {
          "base_uri": "https://localhost:8080/",
          "height": 35
        },
        "id": "KNjduOuSXchO",
        "outputId": "5faa6cba-e2f5-4df4-d50b-a7af37366b13"
      },
      "execution_count": null,
      "outputs": [
        {
          "output_type": "execute_result",
          "data": {
            "text/plain": [
              "'GPT算法的主要原理是基于大规模预训练的神经网络模型，通过自监督学习和迁移学习来生成自然语言文本。'"
            ],
            "application/vnd.google.colaboratory.intrinsic+json": {
              "type": "string"
            }
          },
          "metadata": {},
          "execution_count": 35
        }
      ]
    },
    {
      "cell_type": "markdown",
      "source": [
        "简单顺序链\n",
        "\n",
        "输入 -》 链1 =》 链1输出 =》 链2 =》链2输出"
      ],
      "metadata": {
        "id": "nbObh6qUY0Rm"
      }
    },
    {
      "cell_type": "code",
      "source": [
        "from langchain.chains import SimpleSequentialChain\n",
        "\n",
        "llm = ChatOpenAI(model_name=model_name, temperature=0.0, openai_api_key=openai_api_key)\n",
        "# 链1：输入算法名称，输出简要介绍。\n",
        "first_prompt = ChatPromptTemplate.from_template(\n",
        "    \"请用一句话描述算法{algorithm_name}的主要原理。\"\n",
        ")\n",
        "chain_one = LLMChain(llm=llm, prompt=first_prompt)\n",
        "\n",
        "# 链2：输入算法简要介绍，输出英语简要介绍。\n",
        "second_prompt = ChatPromptTemplate.from_template(\n",
        "    \"请将以下文本翻译成英语，\\\n",
        "    文本：{algorithm_desciption}\"\n",
        ")\n",
        "chain_two = LLMChain(llm=llm, prompt=second_prompt)\n",
        "overall_simple_chain = SimpleSequentialChain(chains=[chain_one, chain_two], verbose=True)"
      ],
      "metadata": {
        "id": "UVXnmjqYY1bW"
      },
      "execution_count": null,
      "outputs": []
    },
    {
      "cell_type": "code",
      "source": [
        "algorithm_name = \"gpt\"\n",
        "overall_simple_chain.run(algorithm_name)"
      ],
      "metadata": {
        "colab": {
          "base_uri": "https://localhost:8080/",
          "height": 156
        },
        "id": "JzeLeLumZD-O",
        "outputId": "6e2b21fb-4018-44f8-8092-7243376448f2"
      },
      "execution_count": null,
      "outputs": [
        {
          "output_type": "stream",
          "name": "stdout",
          "text": [
            "\n",
            "\n",
            "\u001b[1m> Entering new SimpleSequentialChain chain...\u001b[0m\n",
            "\u001b[36;1m\u001b[1;3mGPT算法的主要原理是基于大规模预训练的神经网络模型，通过自监督学习和迁移学习来生成自然语言文本。\u001b[0m\n",
            "\u001b[33;1m\u001b[1;3mThe main principle of the GPT algorithm is based on a large-scale pre-trained neural network model, which generates natural language text through self-supervised learning and transfer learning.\u001b[0m\n",
            "\n",
            "\u001b[1m> Finished chain.\u001b[0m\n"
          ]
        },
        {
          "output_type": "execute_result",
          "data": {
            "text/plain": [
              "'The main principle of the GPT algorithm is based on a large-scale pre-trained neural network model, which generates natural language text through self-supervised learning and transfer learning.'"
            ],
            "application/vnd.google.colaboratory.intrinsic+json": {
              "type": "string"
            }
          },
          "metadata": {},
          "execution_count": 37
        }
      ]
    },
    {
      "cell_type": "markdown",
      "source": [
        "顺序链\n",
        "\n",
        "\n",
        "\n",
        "![顺序链.png](data:image/png;base64,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)"
      ],
      "metadata": {
        "id": "FY0Z3eT7diU2"
      }
    },
    {
      "cell_type": "code",
      "source": [
        "import pandas as pd\n",
        "from langchain.chains import SequentialChain\n",
        "from langchain.chat_models import ChatOpenAI    #导入OpenAI模型\n",
        "from langchain.prompts import ChatPromptTemplate   #导入聊天提示模板\n",
        "from langchain.chains import LLMChain    #导入LLM链。\n",
        "\n",
        "llm = ChatOpenAI(model_name=model_name, temperature=0.9, openai_api_key=openai_api_key)\n",
        "#子链1  输入：review 输出：english_review\n",
        "first_prompt = ChatPromptTemplate.from_template(\n",
        "    \"把下面的评论review翻译成英文:\"\n",
        "    \"\\n\\n{review}\"\n",
        ")\n",
        "chain_one = LLMChain(llm=llm, prompt=first_prompt, output_key=\"english_review\")\n",
        "\n",
        "#子链2  输入：english_review 输出：summary\n",
        "second_prompt = ChatPromptTemplate.from_template(\n",
        "    \"请你用一句话来总结下面的评论review:\"\n",
        "    \"\\n\\n{english_review}\"\n",
        ")\n",
        "chain_two = LLMChain(llm=llm, prompt=second_prompt, output_key=\"summary\")\n",
        "\n",
        "\n",
        "#子链3  输入：review 输出：language\n",
        "third_prompt = ChatPromptTemplate.from_template(\n",
        "    \"下面的评论review使用的什么语言:\\n\\n{review}\"\n",
        ")\n",
        "chain_three = LLMChain(llm=llm, prompt=third_prompt, output_key=\"language\")\n",
        "\n",
        "\n",
        "#子链4  输入：summary&language 输出：followup_message\n",
        "fourth_prompt = ChatPromptTemplate.from_template(\n",
        "    \"使用特定的语言对下面的总结写一个后续回复:\"\n",
        "    \"\\n\\n总结: {summary}\\n\\n语言: {language}\"\n",
        ")\n",
        "chain_four = LLMChain(llm=llm, prompt=fourth_prompt, output_key=\"followup_message\")"
      ],
      "metadata": {
        "id": "l0XjyWhddjeO"
      },
      "execution_count": null,
      "outputs": []
    },
    {
      "cell_type": "code",
      "source": [
        "#输入：review\n",
        "#输出：english_review, summary, language, followup_message\n",
        "overall_chain = SequentialChain(\n",
        "    chains=[chain_one, chain_two, chain_three, chain_four],\n",
        "    input_variables=[\"review\"],\n",
        "    output_variables=[\"english_review\", \"summary\", \"language\", \"followup_message\"],\n",
        "    verbose=True\n",
        ")"
      ],
      "metadata": {
        "id": "guhBgzYTdxRd"
      },
      "execution_count": null,
      "outputs": []
    },
    {
      "cell_type": "code",
      "source": [
        "review = \"\"\"\n",
        "上周我买了这个手机，产品质量非常好，而且送货速递很快，第二天就送到了，店家服务态度也很好，总体而言，很不错的购物体验，下次有需求还会来买。\n",
        "\"\"\"\n",
        "overall_chain(review)"
      ],
      "metadata": {
        "colab": {
          "base_uri": "https://localhost:8080/"
        },
        "id": "ppcPR9ced3z-",
        "outputId": "16501990-acb4-4cba-bcc0-7b3fdfda5ceb"
      },
      "execution_count": null,
      "outputs": [
        {
          "output_type": "stream",
          "name": "stdout",
          "text": [
            "\n",
            "\n",
            "\u001b[1m> Entering new SequentialChain chain...\u001b[0m\n",
            "\n",
            "\u001b[1m> Finished chain.\u001b[0m\n"
          ]
        },
        {
          "output_type": "execute_result",
          "data": {
            "text/plain": [
              "{'review': '\\n上周我买了这个手机，产品质量非常好，而且送货速递很快，第二天就送到了，店家服务态度也很好，总体而言，很不错的购物体验，下次有需求还会来买。\\n',\n",
              " 'english_review': 'I bought this phone last week. The product quality is very good, and the delivery was very fast, it arrived the next day. The store staff also have a good attitude. Overall, it was a very good shopping experience. I will come back to buy again next time I have a need.',\n",
              " 'summary': 'Overall, a very positive shopping experience with good product quality, fast delivery, and excellent customer service.',\n",
              " 'language': '中文。',\n",
              " 'followup_message': '非常感谢您的肯定与支持！我们将继续努力，为您提供更好的商品质量、更快的送货速度和更优质的客户服务。期待您的再次光临！祝您购物愉快！'}"
            ]
          },
          "metadata": {},
          "execution_count": 40
        }
      ]
    },
    {
      "cell_type": "markdown",
      "source": [
        "路由链 \\\n",
        "\n",
        "![路由链4.png](data:image/png;base64,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)"
      ],
      "metadata": {
        "id": "S46xLyWAhoUH"
      }
    },
    {
      "cell_type": "code",
      "source": [
        "from langchain.chains.router import MultiPromptChain  #导入多提示链\n",
        "from langchain.chains.router.llm_router import LLMRouterChain,RouterOutputParser\n",
        "from langchain.prompts import PromptTemplate\n",
        "from langchain.chains import LLMChain    #导入LLM链。\n",
        "from langchain.prompts import ChatPromptTemplate\n",
        "\n",
        "llm = ChatOpenAI(model_name=model_name, temperature=0, openai_api_key=openai_api_key)"
      ],
      "metadata": {
        "id": "YweDZ-WmhphB"
      },
      "execution_count": null,
      "outputs": []
    },
    {
      "cell_type": "code",
      "source": [
        "#### 目标链提示模板\n",
        "\n",
        "#第一个提示适合回答物理问题\n",
        "physics_template = \"\"\"你是一个非常聪明的物理专家。 \\\n",
        "你擅长用一种简洁并且易于理解的方式去回答问题。\\\n",
        "当你不知道问题的答案时，你承认\\\n",
        "你不知道.\n",
        "\n",
        "这是一个问题:\n",
        "{input}\"\"\"\n",
        "\n",
        "\n",
        "#第二个提示适合回答数学问题\n",
        "math_template = \"\"\"你是一个非常优秀的数学家。 \\\n",
        "你擅长回答数学问题。 \\\n",
        "你之所以如此优秀， \\\n",
        "是因为你能够将棘手的问题分解为组成部分，\\\n",
        "回答组成部分，然后将它们组合在一起，回答更广泛的问题。\n",
        "\n",
        "这是一个问题：\n",
        "{input}\"\"\"\n",
        "\n",
        "\n",
        "#第三个适合回答历史问题\n",
        "history_template = \"\"\"你是以为非常优秀的历史学家。 \\\n",
        "你对一系列历史时期的人物、事件和背景有着极好的学识和理解\\\n",
        "你有能力思考、反思、辩证、讨论和评估过去。\\\n",
        "你尊重历史证据，并有能力利用它来支持你的解释和判断。\n",
        "\n",
        "这是一个问题:\n",
        "{input}\"\"\"\n",
        "\n",
        "\n",
        "#第四个适合回答计算机问题\n",
        "computerscience_template = \"\"\" 你是一个成功的计算机科学专家。\\\n",
        "你有创造力、协作精神、\\\n",
        "前瞻性思维、自信、解决问题的能力、\\\n",
        "对理论和算法的理解以及出色的沟通技巧。\\\n",
        "你非常擅长回答编程问题。\\\n",
        "你之所以如此优秀，是因为你知道  \\\n",
        "如何通过以机器可以轻松解释的命令式步骤描述解决方案来解决问题，\\\n",
        "并且你知道如何选择在时间复杂性和空间复杂性之间取得良好平衡的解决方案。\n",
        "\n",
        "这还是一个输入：\n",
        "{input}\"\"\"\n"
      ],
      "metadata": {
        "id": "kwwM3oX3h0B4"
      },
      "execution_count": null,
      "outputs": []
    },
    {
      "cell_type": "code",
      "source": [
        "#### 目标链名称、描述、提示模板\n",
        "prompt_infos = [\n",
        "    {\n",
        "        \"名字\": \"物理学\",\n",
        "        \"描述\": \"擅长回答关于物理学的问题\",\n",
        "        \"提示模板\": physics_template\n",
        "    },\n",
        "    {\n",
        "        \"名字\": \"数学\",\n",
        "        \"描述\": \"擅长回答数学问题\",\n",
        "        \"提示模板\": math_template\n",
        "    },\n",
        "    {\n",
        "        \"名字\": \"历史\",\n",
        "        \"描述\": \"擅长回答历史问题\",\n",
        "        \"提示模板\": history_template\n",
        "    },\n",
        "    {\n",
        "        \"名字\": \"计算机科学\",\n",
        "        \"描述\": \"擅长回答计算机科学问题\",\n",
        "        \"提示模板\": computerscience_template\n",
        "    }\n",
        "]\n"
      ],
      "metadata": {
        "id": "Ck6ylCVfiJUm"
      },
      "execution_count": null,
      "outputs": []
    },
    {
      "cell_type": "code",
      "source": [
        "#### 构造目标链\n",
        "destination_chains = {}\n",
        "for p_info in prompt_infos:\n",
        "    name = p_info[\"名字\"]\n",
        "    prompt_template = p_info[\"提示模板\"]\n",
        "    prompt = ChatPromptTemplate.from_template(template=prompt_template)\n",
        "    chain = LLMChain(llm=llm, prompt=prompt)\n",
        "    destination_chains[name] = chain\n",
        "\n",
        "destinations = [f\"{p['名字']}: {p['描述']}\" for p in prompt_infos]\n",
        "destinations_str = \"\\n\".join(destinations)"
      ],
      "metadata": {
        "id": "Y-5vMsp9iMTQ"
      },
      "execution_count": null,
      "outputs": []
    },
    {
      "cell_type": "code",
      "source": [
        "destinations"
      ],
      "metadata": {
        "colab": {
          "base_uri": "https://localhost:8080/"
        },
        "id": "LK-e35JP8B1k",
        "outputId": "58e7c254-c808-49fd-87b8-8c057d524872"
      },
      "execution_count": null,
      "outputs": [
        {
          "output_type": "execute_result",
          "data": {
            "text/plain": [
              "['物理学: 擅长回答关于物理学的问题', '数学: 擅长回答数学问题', '历史: 擅长回答历史问题', '计算机科学: 擅长回答计算机科学问题']"
            ]
          },
          "metadata": {},
          "execution_count": 45
        }
      ]
    },
    {
      "cell_type": "code",
      "source": [
        "#### 构造默认链\n",
        "default_prompt = ChatPromptTemplate.from_template(\"{input}\")\n",
        "default_chain = LLMChain(llm=llm, prompt=default_prompt)"
      ],
      "metadata": {
        "id": "r1x2doI7pfeH"
      },
      "execution_count": null,
      "outputs": []
    },
    {
      "cell_type": "code",
      "source": [
        "#### 多提示路由模板\n",
        "MULTI_PROMPT_ROUTER_TEMPLATE = \"\"\"给语言模型一个原始文本输入，\\\n",
        "让其选择最适合输入的模型提示。\\\n",
        "系统将为您提供可用提示的名称以及最适合改提示的描述。\\\n",
        "如果你认为修改原始输入最终会导致语言模型做出更好的响应，\\\n",
        "你也可以修改原始输入。\n",
        "\n",
        "\n",
        "<< 格式 >>\n",
        "返回一个带有JSON对象的markdown代码片段，该JSON对象的格式如下：\n",
        "```json\n",
        "{{{{\n",
        "    \"destination\": 字符串 \\ 使用的提示名字或者使用 \"DEFAULT\"\n",
        "    \"next_inputs\": 字符串 \\ 原始输入的改进版本\n",
        "}}}}\n",
        "\n",
        "\n",
        "\n",
        "记住：“destination”必须是下面指定的候选提示名称之一，\\\n",
        "或者如果输入不太适合任何候选提示，\\\n",
        "则可以是 “DEFAULT” 。\n",
        "记住：如果您认为不需要任何修改，\\\n",
        "则 “next_inputs” 可以只是原始输入。\n",
        "\n",
        "<< 候选提示 >>\n",
        "{destinations}\n",
        "\n",
        "<< 输入 >>\n",
        "{{input}}\n",
        "\n",
        "<< 输出 (记得要包含 ```json)>>\n",
        "\n",
        "样例:\n",
        "<< 输入 >>\n",
        "\"什么是黑体辐射?\"\n",
        "<< 输出 >>\n",
        "```json\n",
        "{{{{\n",
        "    \"destination\": 字符串 \\ 使用的提示名字或者使用 \"DEFAULT\"\n",
        "    \"next_inputs\": 字符串 \\ 原始输入的改进版本\n",
        "}}}}\n",
        "\n",
        "\"\"\"\n"
      ],
      "metadata": {
        "id": "vFiP7QpUpgfe"
      },
      "execution_count": null,
      "outputs": []
    },
    {
      "cell_type": "code",
      "source": [
        "#### 构造路由链\n",
        "router_template = MULTI_PROMPT_ROUTER_TEMPLATE.format(\n",
        "    destinations=destinations_str\n",
        ")\n",
        "router_prompt = PromptTemplate(\n",
        "    template=router_template,\n",
        "    input_variables=[\"input\"],\n",
        "    output_parser=RouterOutputParser(),\n",
        ")\n",
        "\n",
        "router_chain = LLMRouterChain.from_llm(llm, router_prompt)"
      ],
      "metadata": {
        "id": "BhHolvrjpjxU"
      },
      "execution_count": null,
      "outputs": []
    },
    {
      "cell_type": "code",
      "source": [
        "#### 整体路由链\n",
        "chain = MultiPromptChain(router_chain=router_chain,  # 路由链\n",
        "              destination_chains=destination_chains,  # 目标链\n",
        "              default_chain=default_chain,  # 默认链\n",
        "              verbose=True\n",
        "             )"
      ],
      "metadata": {
        "id": "g6BWlQLBpoHc"
      },
      "execution_count": null,
      "outputs": []
    },
    {
      "cell_type": "code",
      "source": [
        "import warnings\n",
        "warnings.filterwarnings('ignore')"
      ],
      "metadata": {
        "id": "cbkQLeMpqmWO"
      },
      "execution_count": null,
      "outputs": []
    },
    {
      "cell_type": "code",
      "source": [
        "chain.run(\"你好\")"
      ],
      "metadata": {
        "colab": {
          "base_uri": "https://localhost:8080/",
          "height": 122
        },
        "id": "Qs0sG22HpqI8",
        "outputId": "395bb5ea-24f2-4a85-a132-e7bfa5ee20e4"
      },
      "execution_count": null,
      "outputs": [
        {
          "output_type": "stream",
          "name": "stdout",
          "text": [
            "\n",
            "\n",
            "\u001b[1m> Entering new MultiPromptChain chain...\u001b[0m\n",
            "None: {'input': '你好'}\n",
            "\u001b[1m> Finished chain.\u001b[0m\n"
          ]
        },
        {
          "output_type": "execute_result",
          "data": {
            "text/plain": [
              "'你好！有什么可以帮助你的吗？'"
            ],
            "application/vnd.google.colaboratory.intrinsic+json": {
              "type": "string"
            }
          },
          "metadata": {},
          "execution_count": 51
        }
      ]
    },
    {
      "cell_type": "markdown",
      "source": [
        "# 2.5 代理机制"
      ],
      "metadata": {
        "id": "bSF8s2Jm9uDj"
      }
    },
    {
      "cell_type": "markdown",
      "source": [
        "使用LangChain内置工具"
      ],
      "metadata": {
        "id": "M58XQLZGAe8Q"
      }
    },
    {
      "cell_type": "code",
      "source": [
        "from langchain.agents import load_tools, initialize_agent\n",
        "from langchain.agents import AgentType\n",
        "from langchain.chat_models import ChatOpenAI"
      ],
      "metadata": {
        "id": "NUMUD9qkAf2a"
      },
      "execution_count": null,
      "outputs": []
    },
    {
      "cell_type": "code",
      "source": [
        "llm = ChatOpenAI(model_name=model_name, temperature=0, openai_api_key=openai_api_key)\n",
        "\n",
        "tools = load_tools(\n",
        "    [\"llm-math\", \"wikipedia\"],\n",
        "    llm=llm\n",
        ")\n",
        "\n",
        "agent= initialize_agent(\n",
        "    tools,\n",
        "    llm,\n",
        "    agent=AgentType.CHAT_ZERO_SHOT_REACT_DESCRIPTION,\n",
        "    handle_parsing_errors=True,\n",
        "    verbose=True\n",
        ")"
      ],
      "metadata": {
        "id": "_MwWf8EtA5qW"
      },
      "execution_count": null,
      "outputs": []
    },
    {
      "cell_type": "code",
      "source": [
        "question = \"10的3次方是多少？\"\n",
        "agent(question)"
      ],
      "metadata": {
        "id": "3JUqapj7Fx0u",
        "colab": {
          "base_uri": "https://localhost:8080/"
        },
        "outputId": "f28edccb-be74-45ee-d1e0-5e3080ca1fe1"
      },
      "execution_count": null,
      "outputs": [
        {
          "output_type": "stream",
          "name": "stdout",
          "text": [
            "\n",
            "\n",
            "\u001b[1m> Entering new AgentExecutor chain...\u001b[0m\n",
            "\u001b[32;1m\u001b[1;3mThought: This is a simple math question that can be easily solved using a calculator.\n",
            "\n",
            "Action:\n",
            "```\n",
            "{\n",
            "  \"action\": \"Calculator\",\n",
            "  \"action_input\": \"10^3\"\n",
            "}\n",
            "```\n",
            "\n",
            "\u001b[0m\n",
            "Observation: \u001b[36;1m\u001b[1;3mAnswer: 1000\u001b[0m\n",
            "Thought:\u001b[32;1m\u001b[1;3mFinal Answer: 1000\u001b[0m\n",
            "\n",
            "\u001b[1m> Finished chain.\u001b[0m\n"
          ]
        },
        {
          "output_type": "execute_result",
          "data": {
            "text/plain": [
              "{'input': '10的3次方是多少？', 'output': '1000'}"
            ]
          },
          "metadata": {},
          "execution_count": 52
        }
      ]
    },
    {
      "cell_type": "markdown",
      "source": [
        "自定义工具"
      ],
      "metadata": {
        "id": "qo31bCzpGx8b"
      }
    },
    {
      "cell_type": "code",
      "source": [
        "# 导入tool函数装饰器\n",
        "from langchain.agents import tool\n",
        "from datetime import date\n",
        "\n",
        "@tool\n",
        "def time(text: str) -> str:\n",
        "    \"\"\"\n",
        "    返回今天的日期，用于任何需要知道今天日期的问题。\\\n",
        "    输入应该总是一个空字符串，\\\n",
        "    这个函数将总是返回今天的日期，任何日期计算应该在这个函数之外进行。\n",
        "    \"\"\"\n",
        "    return str(date.today())\n",
        "\n",
        "llm = ChatOpenAI(model_name=\"gpt-4\", temperature=0.0, openai_api_key=openai_api_key)\n",
        "\n",
        "# 初始化代理\n",
        "agent = initialize_agent(\n",
        "    tools=[time] + tools,\n",
        "    llm=llm,\n",
        "    agent=AgentType.CHAT_ZERO_SHOT_REACT_DESCRIPTION,  # 代理类型\n",
        "    handle_parsing_errors=True, # 处理解析错误\n",
        "    verbose=True\n",
        ")"
      ],
      "metadata": {
        "id": "wAhSPwlPGzBN"
      },
      "execution_count": null,
      "outputs": []
    },
    {
      "cell_type": "code",
      "source": [
        "agent(\"gpt是哪个公司发明的？\")"
      ],
      "metadata": {
        "id": "tT4jLR_EZWBP",
        "colab": {
          "base_uri": "https://localhost:8080/"
        },
        "outputId": "f1a5f53e-36da-44f1-9e8d-cad7fae19ad7"
      },
      "execution_count": null,
      "outputs": [
        {
          "output_type": "stream",
          "name": "stdout",
          "text": [
            "\n",
            "\n",
            "\u001b[1m> Entering new AgentExecutor chain...\u001b[0m\n",
            "\u001b[32;1m\u001b[1;3mThought: GPT是由OpenAI发明的。我可以使用wikipedia工具来确认这个信息。\n",
            "Action:\n",
            "```\n",
            "{\n",
            "  \"action\": \"wikipedia\",\n",
            "  \"action_input\": \"GPT\"\n",
            "}\n",
            "```\u001b[0m\n",
            "Observation: \u001b[38;5;200m\u001b[1;3mPage: ChatGPT\n",
            "Summary: ChatGPT is a generative artificial intelligence chatbot developed by OpenAI and launched in 2022. It is currently based on the GPT-4o large language model (LLM). ChatGPT can generate human-like conversational responses and enables users to refine and steer a conversation towards a desired length, format, style, level of detail, and language. It is credited with accelerating the AI boom, which has led to ongoing rapid investment in and public attention to the field of artificial intelligence (AI). Some observers have raised concern about the potential of ChatGPT and similar programs to displace human intelligence, enable plagiarism, or fuel misinformation.\n",
            "By January 2023, ChatGPT had become what was then the fastest-growing consumer software application in history, gaining over 100 million users in two months and contributing to the growth of OpenAI's current valuation of $86 billion. ChatGPT's release spurred the release of competing products, including Gemini, Claude, Llama, Ernie, and Grok. Microsoft launched Copilot, initially based on OpenAI's GPT-4. In May 2024, a partnership between Apple Inc. and OpenAI was announced, in which ChatGPT was integrated into the Apple Intelligence feature of Apple operating systems. As of July 2024, ChatGPT's website is among the 10 most-visited websites globally.\n",
            "ChatGPT is built on OpenAI's proprietary series of generative pre-trained transformer (GPT) models and is fine-tuned for conversational applications using a combination of supervised learning and reinforcement learning from human feedback. Successive user prompts and replies are considered at each conversation stage as context. ChatGPT was released as a freely available research preview, but due to its popularity, OpenAI now operates the service on a freemium model. Users on its free tier can access GPT-4o. The ChatGPT subscriptions \"Plus\", \"Team\", and \"Enterprise\" provide additional features such as DALL-E 3 image generation and an increased usage limit.\n",
            "\n",
            "\n",
            "\n",
            "Page: GPT-4\n",
            "Summary: Generative Pre-trained Transformer 4 (GPT-4) is a multimodal large language model trained and created by OpenAI and the fourth in its series of GPT foundation models. It was launched on March 14, 2023, and made publicly available via the paid chatbot product ChatGPT Plus, via OpenAI's API, and via the free chatbot Microsoft Copilot.  As a transformer-based model, GPT-4 uses a paradigm where pre-training using both public data and \"data licensed from third-party providers\" is used to predict the next token. After this step, the model was then fine-tuned with reinforcement learning feedback from humans and AI for human alignment and policy compliance.: 2 \n",
            "Observers reported that the iteration of ChatGPT using GPT-4 was an improvement on the previous iteration based on GPT-3.5, with the caveat that GPT-4 retains some of the problems with earlier revisions. GPT-4, equipped with vision capabilities (GPT-4V), is capable of taking images as input on ChatGPT. OpenAI has not revealed technical details and statistics about GPT-4, such as the precise size of the model.\n",
            "\n",
            "\n",
            "\n",
            "Page: GPT-4o\n",
            "Summary: GPT-4o (\"o\" for \"omni\") is a multilingual, multimodal generative pre-trained transformer developed by OpenAI and released in May 2024. GPT-4o is free, but with a usage limit that is five times higher for ChatGPT Plus subscribers. It can process and generate text, images and audio. Its application programming interface (API) is twice as fast and half the price of its predecessor, GPT-4 Turbo.\u001b[0m\n",
            "Thought:\u001b[32;1m\u001b[1;3m从wikipedia的结果来看，GPT是由OpenAI发明的。\n",
            "Final Answer: GPT是由OpenAI发明的。\u001b[0m\n",
            "\n",
            "\u001b[1m> Finished chain.\u001b[0m\n"
          ]
        },
        {
          "output_type": "execute_result",
          "data": {
            "text/plain": [
              "{'input': 'gpt是哪个公司发明的？', 'output': 'GPT是由OpenAI发明的。'}"
            ]
          },
          "metadata": {},
          "execution_count": 55
        }
      ]
    },
    {
      "cell_type": "markdown",
      "source": [
        "# 2.7 搭建基于本地知识库的问答系统"
      ],
      "metadata": {
        "id": "vtPWUDAXTL2u"
      }
    },
    {
      "cell_type": "code",
      "source": [
        "\n",
        "markdown_document = \"\"\"\n",
        "# 摘要：\n",
        "主流的seq2seq模型是基于包含了编码器和解码器的复杂循环神网络或者卷积神经网络来实现的。表现最好的模型还通过注意力机制将编码器和解码器相连接。我们提出了一种新的简单的网络架构-Transformer，仅基于注意力机制，完全摒弃了循环和卷积。在两个机器翻译任务上的实验表明，这些模型在质量上表现更优秀，同时更易于并行化，且训练时间明显缩短。我们的模型在WMT2014英德翻译任务上取得了28.4BLEU的成绩，相比现有最好的结果（包括集成模型），提高了2个BLEU。在WMT2014英法翻译任务上，我们的模型仅在8个GPU上训练了3.5天，在训练成本远低于文献中最佳模型的情部下，实现了新的单模型BLEU分数最高的记录，达到41.8。我们证明了模型适用于其他任务，并成功将其应用于英语成分分析，包括大量和有限的训练数据。\n",
        "\n",
        "# 1  引言\n",
        "循环神经网络（Recurrent neural networks），长短时记忆网络（Long shot-term memory）和门控循环网络（Gated recurrent neural networks）已经被确认为序列建模和转导问题（例如语言建模和机器翻译）中的最先进方法。自那时以来，已经进行了大量工作来推动循环语言模型和编码器-解码器架构的发展。\n",
        "循环模型通常根据输入和输出序列中的符号位置分解计算。将位置与计算时间齐步，它们将生成一系列隐藏状ht，作为先前隐藏状态ht-1和位置t的输入函数。这种固有的顺序性质使得在训练时不能并行化，而并行化在句子较长时是非常重要的。最近的工作能过分解技巧和条件计算实现了显著的计算效率提高，同时在后一种情况下提高了模型性能。但是，顺序计算的基本限制仍然存在。\n",
        "\n",
        "在各种任务中，注意力机制已经成为引人入胜的序列和转导模型中重要的组成部分，允许在输入和输出中不考虑它们这间的距离来建模。极少数情况以下除外，少数情况下，这种注意力机制通常与循环神经网络结合使用。\n",
        "\n",
        "在这项工作中，我们提出了Transformer模型架构，它避免使用循环，而是完全注意力机制来描述输入和输出的全局依赖关系。Transformer允许更多的并行化，并且在使用八个P100GPU进行为期仅十二个小时的训练后，可以达到翻译质量的新水平。\n",
        "# 2  背景介绍：\n",
        "减少顺序计算的目标也是Extended Neural GPU [16]、ByteNet [18]和ConvS2S [9]的基础，它们都使用卷积神经网络作为基本构建块，在所有输入和输出位置上并行计算隐藏表示。在这些模型中，将来自两个任意输入或输出位置的信号相关联所需的操作数量随着位置之间的距离而增加，ConvS2S的增长是线性的，ByteNet的增长是对数的。这使得学习远距离位置之间的依赖关系更加困难[12]。在Transformer中，这被减少为一定数量的操作，尽管由于平均注意加权位置而导致有效分辨率降低，我们通过多头注意力在第3.2节中描述的方法来抵消这种效应。\n",
        "\n",
        "“自注意力”（有时也称为“内部注意力”）是深度学习模型中的一种技术，它能够关注序列中不同位置，以计算序列的表示。这与传统的注意力机制不同，后者通常涉及关注不同的上下文部分，而自注意力则可以关注序列本身的不同部分。自注意力机制已经成功地应用于许多任务，包括阅读 理解、抽象汇总、文本蕴含和学习无关的句子表示。\n",
        "\n",
        "端到端记已网络是基于递归注意力机制而不是序列对齐递归，并已被证明在简单语言问答和语言建模任务中表现良好。\n",
        "\n",
        "据我们所知，Transformer是第一个完全依靠自注意力机制计算输入和输出表示而不使用序列对齐RNN或卷积的传导模型。在接下来的章节中，我们将描述Transforer，阐述自注意力的动机，并讨论它相对于[17，18]和[9]等模型的优势。\n",
        "# 3  模型架构++\n",
        "大多数有竞争力的神经序列传导模型都具有编码器-解码器结构[5， 2， 35]。在这里，编码器将符号表示的输入序列x=（x1, ..., xn）映射到连续表示的z=（z1, .., zn）。给定z，解码器然后一次生成一个符号输出序列（y1, ..., ym）。在每一步，模型都是自回归的，在生成下一个符号时，使用先前生成的符号作为额外的输入。\n",
        "## 3.1  编码器和解码器堆栈\n",
        "编码器：编码器由N=6个相同的层组成。每个层有两个子层。第一个是多头自注意力机制，第二个是简单的逐位置全连接前馈网络。我们在两个子层周围采用残差连接【11】，然后进行归一化【1】。也就是说，每个子层的输出是LayerNorm(x+Sublayer(x))，其中Sublayer(x)是子层本身实现的函数。为了方便这些残差连接，模型中的所有以及嵌入层都产生dmodel=512维的输出。\n",
        "\n",
        "解码器：解码器也是由N=6相同的层组成。除了每个编码器层中的两个子支之外，解码器还插入了第三个子层，该子层在编码器堆栈的输出上执行多头注意力。与编码器类似，我们在每个子层周围采用残差连接，然后进行层归一化。我们还修改了解码器堆栈中的自注意力子层，以防止关注后续位置。这种掩码，加上输出嵌入偏移一个位置，确保位置i的预测只依赖于小于i位置的已知输出。\n",
        "\n",
        "## 3.2  注意力\n",
        "一个注意力函数可以被描述为将一个查询和组键-值对映到一个输出，其中查询、键、值和输出都是向量。蝓出被计算为值的加权和，其中分配给每个值的权重是由查询与相 应键的兼容性函数计算得出的。\n",
        "### 3.2.1  缩放点注意力\n",
        "我们称这种特定的注意力为“缩放点注意力”。输入由维度为dk的查询和键以及维度为dv的值组成。我们计算查询和所有键的点积，将每个点积除以√dk，并应用softmax函数以获得值的权重。\n",
        "\n",
        "两种最常用的注意力函数是加和注意力【2】和点积（乘法）注意力。点积注意力与我们的算法相同，只是缩放因子为1/√dk。加和注意力使用单隐藏层的前馈网络计算兼容函数。虽然两者理论复杂度上相似，但在实践中，点积注意力更快速和更节省空间，因为它可以使用高度优化的矩阵乘法代码来实现。\n",
        "\n",
        "当dk的值较小的时候，这两种机制的性能相似，但是在较大的dk值下，加法注意力优于没有缩放的点积注意力【3】。我们怀疑在dk值较大的情况下，点积的结果变得非常大，将softmax函数推到其梯度极小的区域。为了抵消这种影响，我们将点积结果缩放1/√dk。\n",
        "### 3.2.2  多头注意力\n",
        "我们发现，与其使用一个dmodel维度的键、值和查询来执行单个注意力函数，通过将查询、键和值分别线性投影到dk、dk和dv维度，会更加有益。对每一组线性投影的查询、键和值，我们进行并行的注意力函数计算，生成dv维度的输出。这些值被连接在一起，并再次进行投影，最终生成最终值。\n",
        "\n",
        "多头注意力机制允许模型在不同的位置同时关注来自不同表示子空间的信息。使用单个注意力头，平均化会抑制这种特性。\n",
        "\"\"\"\n"
      ],
      "metadata": {
        "id": "_3UAbQ6nTlI2"
      },
      "execution_count": null,
      "outputs": []
    },
    {
      "cell_type": "code",
      "source": [
        "from langchain.embeddings.openai import OpenAIEmbeddings\n",
        "from langchain.vectorstores import Chroma\n",
        "from langchain.chains import RetrievalQA,  ConversationalRetrievalChain\n",
        "from langchain.memory import ConversationBufferMemory\n",
        "from langchain.chat_models import ChatOpenAI\n",
        "from langchain.text_splitter import MarkdownHeaderTextSplitter\n",
        "from langchain_core.documents.base import Document\n",
        "from langchain_core.messages.human import HumanMessage\n",
        "\n",
        "\n",
        "class RagMahcine():\n",
        "  def __init__(self,\n",
        "          markdown_document=None,  # 外部markdown内容\n",
        "          openai_api_key=None,\n",
        "          model_name='gpt-3.5-turbo',  # 调用的gpt版本\n",
        "          persist_directory='./chroma/llm/',  # 向量数据库存储地址\n",
        "          chain_type='stuff',  # 检索问答链类型，stuff代表将检索到全部文档一次全部送入大模型\n",
        "          search_type='similarity',  # 检索类型，similarity代表根据相似性进行检索\n",
        "          k=3,  # 每次检索返回的文档数\n",
        "          temperature=0  # 大模型回答的随机程度，0代表非常固定\n",
        "    ):\n",
        "    self.markdown_document = markdown_document\n",
        "    self.openai_api_key = openai_api_key\n",
        "    self.model_name = model_name\n",
        "    self.persist_directory = persist_directory\n",
        "    self.chain_type = chain_type\n",
        "    self.search_type = search_type\n",
        "    self.k = k\n",
        "    self.temperature = temperature\n",
        "    self.qa_chain = None\n",
        "    self.init_machine()\n",
        "\n",
        "  # 初始化rag流程\n",
        "  def init_machine(self):\n",
        "    markdown_document_inner = self.document_load(self.markdown_document)  # step1 文档加载\n",
        "    para_splits = self.document_split(markdown_document_inner)  # step2 文档分隔\n",
        "    vector_db = self.embedding_store(para_splits)  # step3 向量化与存储\n",
        "    self.retrieval(vector_db)  # step4 构建检索问答链\n",
        "\n",
        "  # step1 文档加载 文档加载可以有内存变量、磁盘文件、数据库等来源，本案例是从变量加载，代码有一定冗余，但保证了流程的标准化，方便逻辑修改复用。\n",
        "  def document_load(self, markdown_document):\n",
        "    return markdown_document\n",
        "\n",
        "  # step2 文档分隔\n",
        "  def document_split(self, markdown_document):\n",
        "    headers_to_split_on = [\n",
        "        (\"#\", \"header_1\"),\n",
        "        (\"##\", \"header_2\"),\n",
        "        (\"###\", \"header_3\"),\n",
        "    ]\n",
        "    markdown_splitter = MarkdownHeaderTextSplitter(headers_to_split_on=headers_to_split_on)\n",
        "    md_header_splits = markdown_splitter.split_text(markdown_document)\n",
        "    para_splits = []\n",
        "    for md_head in md_header_splits:\n",
        "      me_head_metadata = md_head.metadata\n",
        "      md_head_page_content = md_head.page_content\n",
        "      md_head_page_content_paras = md_head_page_content.split('\\n')\n",
        "      for i in range(len(md_head_page_content_paras)):\n",
        "        para_content = md_head_page_content_paras[i]\n",
        "        para_metadata = me_head_metadata\n",
        "        para_metadata['para'] = 'para_'+str(i)\n",
        "        para_document = Document(page_content=para_content, metadata=para_metadata)\n",
        "        para_splits.append(para_document)\n",
        "    return para_splits\n",
        "\n",
        "  # step3 向量化与存储\n",
        "  def embedding_store(self, para_splits):\n",
        "    embeddings = OpenAIEmbeddings(api_key=self.openai_api_key)\n",
        "    vector_db = Chroma.from_documents(\n",
        "      documents=para_splits,\n",
        "      embedding=embeddings,\n",
        "      persist_directory=self.persist_directory\n",
        "    )\n",
        "    return vector_db\n",
        "\n",
        "  # step4 构建检索问答链\n",
        "  def retrieval(self, vector_db):\n",
        "    retriever = vector_db.as_retriever(search_type=self.search_type, search_kwargs={\"k\": self.k})\n",
        "    memory = ConversationBufferMemory(\n",
        "      memory_key=\"chat_history\", # 与 prompt 的输入变量保持一致。\n",
        "      return_messages=True # 将以消息列表的形式返回聊天记录，而不是单个字符串\n",
        "    )\n",
        "    self.qa_chain = ConversationalRetrievalChain.from_llm(\n",
        "      llm=ChatOpenAI(model_name=self.model_name, temperature=self.temperature, openai_api_key=self.openai_api_key),\n",
        "      chain_type=self.chain_type,\n",
        "      retriever=retriever,\n",
        "      memory=memory,\n",
        "    )\n",
        "\n",
        "  # step5 问答\n",
        "  def question_answer(self, question):\n",
        "    result = self.qa_chain({\"question\": question})\n",
        "    for message in result['chat_history']:\n",
        "      if isinstance(message, HumanMessage):\n",
        "        print('Human：', message.content)\n",
        "      else:\n",
        "        print('AI：', message.content)"
      ],
      "metadata": {
        "id": "SEbmt3rNTOT-"
      },
      "execution_count": null,
      "outputs": []
    },
    {
      "cell_type": "code",
      "source": [
        "rag_machine = RagMahcine(markdown_document=markdown_document, openai_api_key=openai_api_key)"
      ],
      "metadata": {
        "id": "bsfs1bI0KSV_"
      },
      "execution_count": null,
      "outputs": []
    },
    {
      "cell_type": "code",
      "source": [
        "rag_machine.question_answer(question='您在前面提到的英德任务上的28.4的指标是什么？')"
      ],
      "metadata": {
        "colab": {
          "base_uri": "https://localhost:8080/"
        },
        "id": "7NTjYjPkKhtc",
        "outputId": "48f36f6c-00ae-4e54-daa7-4afbdcf76db2"
      },
      "execution_count": null,
      "outputs": [
        {
          "output_type": "stream",
          "name": "stdout",
          "text": [
            "Human： transfomer论文里英德翻译任务的bleu值是多少？\n",
            "AI： Transformer模型在WMT2014英德翻译任务上取得了28.4BLEU的成绩。\n",
            "Human： 请简要介绍以下transformer算法的原理\n",
            "AI： Transformer算法是一个基于自注意力机制的模型，用于计算输入和输出表示，而不使用传统的序列对齐RNN或卷积结构。该算法避免了循环结构，完全依赖于注意力机制来捕捉输入和输出之间的全局依赖关系。这种结构允许更多的并行化，使得在相对较短的训练时间内，如使用八个P100GPU进行为期仅十二个小时的训练后，就可以达到翻译等任务的新水平质量。\n",
            "Human： 您在前面提到的英德任务上的28.4的指标是什么？\n",
            "AI： 在WMT2014英德翻译任务上，Transformer模型取得了28.4BLEU的成绩。\n"
          ]
        }
      ]
    }
  ]
}
