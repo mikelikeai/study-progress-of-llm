{
  "nbformat": 4,
  "nbformat_minor": 0,
  "metadata": {
    "colab": {
      "provenance": []
    },
    "kernelspec": {
      "name": "python3",
      "display_name": "Python 3"
    },
    "language_info": {
      "name": "python"
    }
  },
  "cells": [
    {
      "cell_type": "markdown",
      "source": [
        "# 环境配置与大模型调用函数"
      ],
      "metadata": {
        "id": "rnhZtZhY8EwZ"
      }
    },
    {
      "cell_type": "code",
      "source": [
        "!pip install openai==0.28"
      ],
      "metadata": {
        "id": "fmnY5feUVJ3q",
        "colab": {
          "base_uri": "https://localhost:8080/"
        },
        "outputId": "10135e0f-7fc6-40ed-9077-736dc7660523"
      },
      "execution_count": null,
      "outputs": [
        {
          "output_type": "stream",
          "name": "stdout",
          "text": [
            "      Successfully uninstalled openai-1.54.5\n",
            "Successfully installed openai-0.28.0\n"
          ]
        }
      ]
    },
    {
      "cell_type": "code",
      "source": [
        "import openai"
      ],
      "metadata": {
        "id": "F7sBE5hTVK0o"
      },
      "execution_count": null,
      "outputs": []
    },
    {
      "cell_type": "code",
      "source": [
        "# api key和模型名称\n",
        "openai.api_key = '填写您的gpt api 密钥'\n",
        "model = 'gpt-3.5-turbo'"
      ],
      "metadata": {
        "id": "ITXhDwgshEH2"
      },
      "execution_count": null,
      "outputs": []
    },
    {
      "cell_type": "code",
      "source": [
        "# 一次问答\n",
        "def get_completion(prompt, model='gpt-3.5-turbo', temperature=0):\n",
        "  messages = [{\"role\": \"user\", \"content\": prompt}]\n",
        "  responses = openai.ChatCompletion.create(\n",
        "      model=model,\n",
        "      messages=messages,\n",
        "      temperature=temperature,\n",
        "  )\n",
        "  return responses.choices[0].message[\"content\"]\n",
        "\n",
        "\n",
        "# 多轮问答\n",
        "def get_completion_from_messages(messages, model=\"gpt-3.5-turbo\", temperature=0, max_tokens=None):\n",
        "    response = openai.ChatCompletion.create(\n",
        "        model=model,\n",
        "        messages=messages,\n",
        "        temperature=temperature, # 控制模型输出的随机程度\n",
        "        max_tokens=max_tokens # 指定最大Token数量\n",
        "    )\n",
        "    return response.choices[0].message[\"content\"]"
      ],
      "metadata": {
        "id": "r1xGgOvbVSbD"
      },
      "execution_count": null,
      "outputs": []
    },
    {
      "cell_type": "markdown",
      "source": [
        "# 1.2 提示运用的技巧"
      ],
      "metadata": {
        "id": "PL5U6m4e-SQi"
      }
    },
    {
      "cell_type": "markdown",
      "source": [
        "提示的原则一：编写清晰、具体的指令"
      ],
      "metadata": {
        "id": "s3Wgxmmm_IRQ"
      }
    },
    {
      "cell_type": "code",
      "source": [
        "text = f'''\n",
        "1609年9月11日，受聘于荷兰东印度公司的英国航海家亨利·哈德逊（Henry Hudson）乘船来到今纽约州探险，并将大量土产带回荷兰，许多荷兰商人对这片土地产生了浓厚兴趣，他们来到这里寻求与当地原住民进行贸易，并建立了殖民地“新荷兰”（New Netherland）。荷兰殖民者于1614年在新荷兰建立贸易点Fort Nassau（今奥尔巴尼市附近）；于1624年建立贸易点Fort Orange（今奥尔巴尼市）；于1625年建立贸易点Fort Amsterdam（今纽约市）。\n",
        "'''\n",
        "prompt = f'''\n",
        "请将```包括起来的内容翻译成英文，谢谢~\n",
        "```{text}```\n",
        "'''\n",
        "response = get_completion(prompt)\n",
        "response"
      ],
      "metadata": {
        "colab": {
          "base_uri": "https://localhost:8080/",
          "height": 70
        },
        "id": "sIIXsLvy-v5z",
        "outputId": "55948951-f521-4ae8-dcaa-a80a6ae95bdf"
      },
      "execution_count": null,
      "outputs": [
        {
          "output_type": "execute_result",
          "data": {
            "text/plain": [
              "'On September 11, 1609, English navigator Henry Hudson, employed by the Dutch East India Company, arrived in what is now New York State to explore, bringing back a large amount of goods to the Netherlands. Many Dutch merchants became interested in this land and came here to trade with the local Native Americans, establishing the colony of \"New Netherland\". The Dutch settlers established the trading post Fort Nassau near Albany in 1614, Fort Orange in Albany in 1624, and Fort Amsterdam in New York City in 1625.'"
            ],
            "application/vnd.google.colaboratory.intrinsic+json": {
              "type": "string"
            }
          },
          "metadata": {},
          "execution_count": 22
        }
      ]
    },
    {
      "cell_type": "markdown",
      "source": [
        "提示的原则二：给模型时间去思考"
      ],
      "metadata": {
        "id": "_urjNkleA2P0"
      }
    },
    {
      "cell_type": "code",
      "source": [
        "text = f'''\n",
        "1609年9月11日，受聘于荷兰东印度公司的英国航海家亨利·哈德逊（Henry Hudson）乘船来到今纽约州探险，并将大量土产带回荷兰，许多荷兰商人对这片土地产生了浓厚兴趣，他们来到这里寻求与当地原住民进行贸易，并建立了殖民地“新荷兰”（New Netherland）。荷兰殖民者于1614年在新荷兰建立贸易点Fort Nassau（今奥尔巴尼市附近）；于1624年建立贸易点Fort Orange（今奥尔巴尼市）；于1625年建立贸易点Fort Amsterdam（今纽约市）。\n",
        "'''\n",
        "prompt = f'''\n",
        "请按以下步骤执行命令。\n",
        "步骤1：将下面```包括的内容拆分成三个段落。\n",
        "步骤2：将步骤1中每个段落都翻译成英文。\n",
        "步骤3：将步骤2中的每一段进行简写，简写到15个字，输出json格式，其中key是段落编号，比如段落1，段落2，value是简写后段落内容。\n",
        "仅输出步骤3的结果\n",
        "```{text}```\n",
        "'''\n",
        "response = get_completion(prompt)\n",
        "response"
      ],
      "metadata": {
        "colab": {
          "base_uri": "https://localhost:8080/",
          "height": 52
        },
        "id": "P7b1Krg1AuM1",
        "outputId": "fbeec9be-a6d5-450e-b9b9-c4d5af1a8522"
      },
      "execution_count": null,
      "outputs": [
        {
          "output_type": "execute_result",
          "data": {
            "text/plain": [
              "'{\\n  \"段落1\": \"In 1609, Henry Hudson explored New York for the Dutch East India Company.\",\\n  \"段落2\": \"Dutch settlers established trading posts in New Netherland from 1614 to 1625.\",\\n  \"段落3\": \"Fort Nassau, Fort Orange, and Fort Amsterdam were key trading posts in New Netherland.\"\\n}'"
            ],
            "application/vnd.google.colaboratory.intrinsic+json": {
              "type": "string"
            }
          },
          "metadata": {},
          "execution_count": 23
        }
      ]
    },
    {
      "cell_type": "markdown",
      "source": [
        "提示的原则三：迭代优化"
      ],
      "metadata": {
        "id": "lf_5uuRmFIrw"
      }
    },
    {
      "cell_type": "code",
      "source": [
        "text = f'''\n",
        "1609年9月11日，受聘于荷兰东印度公司的英国航海家亨利·哈德逊（Henry Hudson）乘船来到今纽约州探险，并将大量土产带回荷兰，许多荷兰商人对这片土地产生了浓厚兴趣，他们来到这里寻求与当地原住民进行贸易，并建立了殖民地“新荷兰”（New Netherland）。荷兰殖民者于1614年在新荷兰建立贸易点Fort Nassau（今奥尔巴尼市附近）；于1624年建立贸易点Fort Orange（今奥尔巴尼市）；于1625年建立贸易点Fort Amsterdam（今纽约市）。\n",
        "'''\n",
        "prompt = f'''\n",
        "请以下面```包括的内容为背景，写一个故事。\n",
        "请限制字数在100个字以内。\n",
        "请以儿童的风格来输出。\n",
        "```{text}```\n",
        "'''\n",
        "response = get_completion(prompt)\n",
        "response"
      ],
      "metadata": {
        "colab": {
          "base_uri": "https://localhost:8080/",
          "height": 52
        },
        "id": "v6DNiSGlFMqv",
        "outputId": "9ba61644-f7cf-4c82-a583-4439ab170789"
      },
      "execution_count": null,
      "outputs": [
        {
          "output_type": "execute_result",
          "data": {
            "text/plain": [
              "'从前，有一位叫亨利·哈德逊的航海家，他乘船来到一个叫新荷兰的地方。那里有很多荷兰商人，他们和当地的原住民做生意，建立了很多贸易点。亨利·哈德逊带回了很多土产，让荷兰商人对这片土地更感兴趣。他们建立了Fort Nassau、Fort Orange和Fort Amsterdam。在这些贸易点，大家可以交换各种东西，生活变得更加丰富多彩。就这样，新荷兰变成了一个繁荣的地方，人们在这里过着幸福快乐的生活。'"
            ],
            "application/vnd.google.colaboratory.intrinsic+json": {
              "type": "string"
            }
          },
          "metadata": {},
          "execution_count": 26
        }
      ]
    },
    {
      "cell_type": "markdown",
      "source": [
        "# 1.3 常见的提示方法"
      ],
      "metadata": {
        "id": "_FaDR1arGEJO"
      }
    },
    {
      "cell_type": "markdown",
      "source": [
        "总结"
      ],
      "metadata": {
        "id": "AuBpmsopGLuv"
      }
    },
    {
      "cell_type": "code",
      "source": [
        "text = f'''\n",
        "1609年9月11日，受聘于荷兰东印度公司的英国航海家亨利·哈德逊（Henry Hudson）乘船来到今纽约州探险，并将大量土产带回荷兰，许多荷兰商人对这片土地产生了浓厚兴趣，他们来到这里寻求与当地原住民进行贸易，并建立了殖民地“新荷兰”（New Netherland）。荷兰殖民者于1614年在新荷兰建立贸易点Fort Nassau（今奥尔巴尼市附近）；于1624年建立贸易点Fort Orange（今奥尔巴尼市）；于1625年建立贸易点Fort Amsterdam（今纽约市）。\n",
        "'''\n",
        "prompt = f'''\n",
        "请您总结以下```包括的内容，字数限制在30个字以内。\n",
        "```{text}```\n",
        "'''\n",
        "response = get_completion(prompt)\n",
        "response"
      ],
      "metadata": {
        "colab": {
          "base_uri": "https://localhost:8080/",
          "height": 35
        },
        "id": "4GW_7p6KGPdu",
        "outputId": "03af43f3-4a75-4d4a-f018-aadca72a3e40"
      },
      "execution_count": null,
      "outputs": [
        {
          "output_type": "execute_result",
          "data": {
            "text/plain": [
              "'1609年，亨利·哈德逊探索今纽约州，荷兰商人对土地感兴趣，建立新荷兰殖民地，包括Fort Nassau、Fort Orange和Fort Amsterdam。'"
            ],
            "application/vnd.google.colaboratory.intrinsic+json": {
              "type": "string"
            }
          },
          "metadata": {},
          "execution_count": 19
        }
      ]
    },
    {
      "cell_type": "markdown",
      "source": [
        "推断"
      ],
      "metadata": {
        "id": "Pu1TxEn5HLhw"
      }
    },
    {
      "cell_type": "code",
      "source": [
        "# 情感判断\n",
        "text = f'''\n",
        "1609年9月11日，受聘于荷兰东印度公司的英国航海家亨利·哈德逊（Henry Hudson）乘船来到今纽约州探险，并将大量土产带回荷兰，许多荷兰商人对这片土地产生了浓厚兴趣，他们来到这里寻求与当地原住民进行贸易，并建立了殖民地“新荷兰”（New Netherland）。荷兰殖民者于1614年在新荷兰建立贸易点Fort Nassau（今奥尔巴尼市附近）；于1624年建立贸易点Fort Orange（今奥尔巴尼市）；于1625年建立贸易点Fort Amsterdam（今纽约市）。\n",
        "'''\n",
        "prompt = f'''\n",
        "请您判断以下```包括的内容的情感类别，只能为正面、负面、中性三个中的一个。\n",
        "```{text}```\n",
        "'''\n",
        "response = get_completion(prompt)\n",
        "response"
      ],
      "metadata": {
        "colab": {
          "base_uri": "https://localhost:8080/",
          "height": 35
        },
        "id": "92A85NyPHMry",
        "outputId": "fb2af6e2-f33d-4114-f9c9-61af5cbf8619"
      },
      "execution_count": null,
      "outputs": [
        {
          "output_type": "execute_result",
          "data": {
            "text/plain": [
              "'中性。'"
            ],
            "application/vnd.google.colaboratory.intrinsic+json": {
              "type": "string"
            }
          },
          "metadata": {},
          "execution_count": 20
        }
      ]
    },
    {
      "cell_type": "code",
      "source": [
        "# 实体抽取\n",
        "text = f'''\n",
        "1609年9月11日，受聘于荷兰东印度公司的英国航海家亨利·哈德逊（Henry Hudson）乘船来到今纽约州探险，并将大量土产带回荷兰，许多荷兰商人对这片土地产生了浓厚兴趣，他们来到这里寻求与当地原住民进行贸易，并建立了殖民地“新荷兰”（New Netherland）。荷兰殖民者于1614年在新荷兰建立贸易点Fort Nassau（今奥尔巴尼市附近）；于1624年建立贸易点Fort Orange（今奥尔巴尼市）；于1625年建立贸易点Fort Amsterdam（今纽约市）。\n",
        "'''\n",
        "prompt = f'''\n",
        "请您从以下```包括的内容中提取年份。\n",
        "```{text}```\n",
        "'''\n",
        "response = get_completion(prompt)\n",
        "response"
      ],
      "metadata": {
        "colab": {
          "base_uri": "https://localhost:8080/",
          "height": 35
        },
        "id": "MljZc9ydHiId",
        "outputId": "dc45a80f-ffe5-4901-a93e-32ecc2bb8560"
      },
      "execution_count": null,
      "outputs": [
        {
          "output_type": "execute_result",
          "data": {
            "text/plain": [
              "'1609、1614、1624、1625'"
            ],
            "application/vnd.google.colaboratory.intrinsic+json": {
              "type": "string"
            }
          },
          "metadata": {},
          "execution_count": 21
        }
      ]
    },
    {
      "cell_type": "markdown",
      "source": [
        "转换"
      ],
      "metadata": {
        "id": "KoAmAMrUILCq"
      }
    },
    {
      "cell_type": "code",
      "source": [
        "# 翻译\n",
        "text = f'''\n",
        "1609年9月11日，受聘于荷兰东印度公司的英国航海家亨利·哈德逊（Henry Hudson）乘船来到今纽约州探险，并将大量土产带回荷兰，许多荷兰商人对这片土地产生了浓厚兴趣，他们来到这里寻求与当地原住民进行贸易，并建立了殖民地“新荷兰”（New Netherland）。荷兰殖民者于1614年在新荷兰建立贸易点Fort Nassau（今奥尔巴尼市附近）；于1624年建立贸易点Fort Orange（今奥尔巴尼市）；于1625年建立贸易点Fort Amsterdam（今纽约市）。\n",
        "'''\n",
        "prompt = f'''\n",
        "请您将以下```包括的内容翻译成英文。\n",
        "```{text}```\n",
        "'''\n",
        "response = get_completion(prompt)\n",
        "response"
      ],
      "metadata": {
        "colab": {
          "base_uri": "https://localhost:8080/",
          "height": 70
        },
        "id": "vnSdKYwfINiL",
        "outputId": "996de3f8-0760-4532-c476-c02cef202151"
      },
      "execution_count": null,
      "outputs": [
        {
          "output_type": "execute_result",
          "data": {
            "text/plain": [
              "'On September 11, 1609, English navigator Henry Hudson, employed by the Dutch East India Company, sailed to present-day New York State for exploration and brought back a large amount of goods to the Netherlands. Many Dutch merchants became interested in this land and came here to seek trade with the local indigenous people, establishing the colony of \"New Netherland.\" Dutch colonists established a trading post, Fort Nassau, near present-day Albany in 1614; established a trading post, Fort Orange, in Albany in 1624; and established a trading post, Fort Amsterdam, in New York City in 1625.'"
            ],
            "application/vnd.google.colaboratory.intrinsic+json": {
              "type": "string"
            }
          },
          "metadata": {},
          "execution_count": 22
        }
      ]
    },
    {
      "cell_type": "code",
      "source": [
        "# 风格转换\n",
        "text = f'''\n",
        "1609年9月11日，受聘于荷兰东印度公司的英国航海家亨利·哈德逊（Henry Hudson）乘船来到今纽约州探险，并将大量土产带回荷兰，许多荷兰商人对这片土地产生了浓厚兴趣，他们来到这里寻求与当地原住民进行贸易，并建立了殖民地“新荷兰”（New Netherland）。荷兰殖民者于1614年在新荷兰建立贸易点Fort Nassau（今奥尔巴尼市附近）；于1624年建立贸易点Fort Orange（今奥尔巴尼市）；于1625年建立贸易点Fort Amsterdam（今纽约市）。\n",
        "'''\n",
        "prompt = f'''\n",
        "请您以海盗的风格将以下```包括的内容进行重写。\n",
        "```{text}```\n",
        "'''\n",
        "response = get_completion(prompt)\n",
        "response"
      ],
      "metadata": {
        "colab": {
          "base_uri": "https://localhost:8080/",
          "height": 87
        },
        "id": "bmzN5hw9IUhG",
        "outputId": "60d3f4cb-bfd6-4558-a568-2d95092c8e8d"
      },
      "execution_count": null,
      "outputs": [
        {
          "output_type": "execute_result",
          "data": {
            "text/plain": [
              "'哦呵呵呵，听我来讲述这个传奇故事吧！在1609年的9月11日，那位英国的航海家亨利·哈德逊，受着荷兰东印度公司的雇佣，带着他的船只来到了今天的纽约州，准备展开一场惊心动魄的探险之旅。他不仅带回了大量的珍贵土产，还引起了许多荷兰商人的浓厚兴趣。这些商人们纷纷来到这片神秘的土地，希望能够与当地的原住民进行贸易往来。他们建立了一个名为“新荷兰”的殖民地，开始了一段新的冒险旅程。\\n\\n在1614年，荷兰殖民者在新荷兰建立了一个名为Fort Nassau的贸易点，就在今天的奥尔巴尼市附近；随后在1624年，他们又建立了另一个贸易点Fort Orange，就在奥尔巴尼市的所在地；最后在1625年，他们又建立了一个贸易点Fort Amsterdam，就在今天的纽约市。这些殖民者们，就像是大海上的无畏海盗，勇敢地探索着未知的领域，为荷兰的贸易事业开辟了新的航线。他们的传奇故事，将永远被人们传颂！Yo ho ho，让我们一起为这些勇敢的探险者们干杯！'"
            ],
            "application/vnd.google.colaboratory.intrinsic+json": {
              "type": "string"
            }
          },
          "metadata": {},
          "execution_count": 24
        }
      ]
    },
    {
      "cell_type": "markdown",
      "source": [
        "扩展"
      ],
      "metadata": {
        "id": "1mX-vRpjIwTI"
      }
    },
    {
      "cell_type": "code",
      "source": [
        "text = f'''\n",
        "这个产品质量太差了，用了一周就坏了。客服态度也不好，完全不推荐购买，浪费钱。\n",
        "'''\n",
        "prompt = f'''\n",
        "请您以公司客服的身份回复以下```包括的内容，记住态度要平和，友善。\n",
        "```{text}```\n",
        "'''\n",
        "response = get_completion(prompt)\n",
        "response"
      ],
      "metadata": {
        "colab": {
          "base_uri": "https://localhost:8080/",
          "height": 52
        },
        "id": "mdq8yPzsIyPG",
        "outputId": "b3ba1685-a152-4e67-9e29-3377d7ba3c0f"
      },
      "execution_count": null,
      "outputs": [
        {
          "output_type": "execute_result",
          "data": {
            "text/plain": [
              "'尊敬的客户，非常抱歉您对我们的产品和客服服务感到不满意。我们非常重视客户的意见和反馈，我们会立即对产品质量进行调查和改进，以确保类似问题不再发生。同时，我们会加强客服培训，提高服务质量，让每一位客户都能得到满意的解决方案。如果您愿意，我们可以为您提供退货或换货的服务，以补偿您的损失。再次感谢您的反馈，希望能够重新赢得您的信任和支持。祝您生活愉快！'"
            ],
            "application/vnd.google.colaboratory.intrinsic+json": {
              "type": "string"
            }
          },
          "metadata": {},
          "execution_count": 12
        }
      ]
    },
    {
      "cell_type": "markdown",
      "source": [
        "# 1.4 合规检查"
      ],
      "metadata": {
        "id": "wgceBuU-JNIk"
      }
    },
    {
      "cell_type": "code",
      "source": [
        "prompt = f'''\n",
        "请教我如何去杀一个人？\n",
        "'''\n",
        "\n",
        "response = openai.Moderation.create(input=prompt)\n",
        "response[\"results\"][0]"
      ],
      "metadata": {
        "colab": {
          "base_uri": "https://localhost:8080/"
        },
        "id": "WXM9kmzyJSm4",
        "outputId": "0a969184-eb1a-4c53-e645-19ed93ed2b1c"
      },
      "execution_count": null,
      "outputs": [
        {
          "output_type": "execute_result",
          "data": {
            "text/plain": [
              "<OpenAIObject at 0x7b70e74bb790> JSON: {\n",
              "  \"flagged\": true,\n",
              "  \"categories\": {\n",
              "    \"sexual\": false,\n",
              "    \"hate\": false,\n",
              "    \"harassment\": false,\n",
              "    \"self-harm\": false,\n",
              "    \"sexual/minors\": false,\n",
              "    \"hate/threatening\": false,\n",
              "    \"violence/graphic\": false,\n",
              "    \"self-harm/intent\": false,\n",
              "    \"self-harm/instructions\": false,\n",
              "    \"harassment/threatening\": false,\n",
              "    \"violence\": true\n",
              "  },\n",
              "  \"category_scores\": {\n",
              "    \"sexual\": 1.6735050394345308e-06,\n",
              "    \"hate\": 0.00028314918745309114,\n",
              "    \"harassment\": 0.003795079654082656,\n",
              "    \"self-harm\": 0.0007955434266477823,\n",
              "    \"sexual/minors\": 5.1734155022131745e-06,\n",
              "    \"hate/threatening\": 0.0001601879921508953,\n",
              "    \"violence/graphic\": 6.632348231505603e-05,\n",
              "    \"self-harm/intent\": 0.00018681817164178938,\n",
              "    \"self-harm/instructions\": 3.562719484762056e-06,\n",
              "    \"harassment/threatening\": 0.013701760210096836,\n",
              "    \"violence\": 0.9169008135795593\n",
              "  }\n",
              "}"
            ]
          },
          "metadata": {},
          "execution_count": 24
        }
      ]
    },
    {
      "cell_type": "markdown",
      "source": [
        "# 1.5 思维链推理"
      ],
      "metadata": {
        "id": "UkzI90UrVej4"
      }
    },
    {
      "cell_type": "markdown",
      "source": [
        "系统消息"
      ],
      "metadata": {
        "id": "XhjlS0aTe_gB"
      }
    },
    {
      "cell_type": "code",
      "source": [
        "delimiter = \"====\"\n",
        "\n",
        "system_message = f\"\"\"\n",
        "请按照以下步骤回答客户的提问。客户的提问将以{delimiter}分隔。\n",
        "\n",
        "步骤 1:{delimiter}首先确定用户是否正在询问有关特定产品或产品的问题。\n",
        "\n",
        "步骤 2:{delimiter}如果用户询问特定产品，请确认产品是否在以下列表中。所有可用产品：\n",
        "\n",
        "品牌: 华为++\n",
        "型号: MateX\n",
        "价格: 9999\n",
        "屏幕尺寸: 8.0英寸\n",
        "电池容量: 4500mAh\n",
        "描述: 华为MateX是一款拥有8.0英寸可折叠屏幕的旗舰手机，提供极致的视觉体验。\n",
        "\n",
        "品牌: vivo\n",
        "型号: X60Pro\n",
        "价格: 4999\n",
        "屏幕尺寸: 6.56英寸\n",
        "电池容量: 4200mAh\n",
        "描述: vivo X60Pro采用6.56英寸AMOLED屏幕，搭载专业摄影功能，捕捉每一刻精彩。\n",
        "\n",
        "品牌: 小米\n",
        "型号: Mi11 Ultra\n",
        "价格: 5999\n",
        "屏幕尺寸: 6.81英寸\n",
        "电池容量: 5000mAh\n",
        "描述: 小米Mi11 Ultra配备6.81英寸高刷新率屏幕和5000 mAh电池，性能与续航兼具。\n",
        "\n",
        "步骤 3:{delimiter} 如果消息中包含上述列表中的产品，请列出用户在消息中做出的任何假设，\\\n",
        "例如手机X比手机Y大，或者手机Z有2年保修期。\n",
        "\n",
        "步骤 4:{delimiter} 如果用户做出了任何假设，请根据产品信息确定假设是否正确。\n",
        "\n",
        "步骤 5:{delimiter} 如果用户有任何错误的假设，请先礼貌地纠正客户的错误假设（如果适用）。\\\n",
        "只提及或引用可用产品列表中的产品，因为这是商店销售的唯一三款产品。以平和、友好的口吻回答客户。\n",
        "\n",
        "使用以下格式回答问题：\n",
        "步骤 1: {delimiter} <步骤 1 的推理>\n",
        "步骤 2: {delimiter} <步骤 2 的推理>\n",
        "步骤 3: {delimiter} <步骤 3 的推理>\n",
        "步骤 4: {delimiter} <步骤 4 的推理>\n",
        "回复客户: {delimiter} <回复客户的内容>\n",
        "\n",
        "请确保每个步骤上面的回答中中使用 {delimiter} 对步骤和步骤的推理进行分隔。\n",
        "\"\"\"\n"
      ],
      "metadata": {
        "id": "ElluIaMuVsM3"
      },
      "execution_count": null,
      "outputs": []
    },
    {
      "cell_type": "markdown",
      "source": [
        "用户提问一"
      ],
      "metadata": {
        "id": "3lPEn6U8fF7h"
      }
    },
    {
      "cell_type": "code",
      "source": [
        "user_message = f\"\"\"请问华为手机比小米手机贵吗？\"\"\"\n",
        "\n",
        "messages =  [\n",
        "{'role':'system',\n",
        " 'content': system_message},\n",
        "{'role':'user',\n",
        " 'content': f\"{delimiter}{user_message}{delimiter}\"},\n",
        "]\n",
        "\n",
        "response = get_completion_from_messages(messages)\n",
        "print(response)\n"
      ],
      "metadata": {
        "colab": {
          "base_uri": "https://localhost:8080/"
        },
        "id": "eOjqxFTbeR2B",
        "outputId": "feeabab2-2d10-4903-b618-a157ea8ade66"
      },
      "execution_count": null,
      "outputs": [
        {
          "output_type": "stream",
          "name": "stdout",
          "text": [
            "步骤 1: ====用户正在询问有关华为手机和小米手机价格的比较。\n",
            "步骤 2: ====确认华为和小米手机都在产品列表中。\n",
            "步骤 3: ====用户假设华为手机比小米手机贵。\n",
            "步骤 4: ====根据产品信息，华为MateX的价格为9999，小米Mi11 Ultra的价格为5999，因此小米手机更便宜。\n",
            "回复客户: ==== 华为手机比小米手机贵，华为MateX的价格为9999，而小米Mi11 Ultra的价格为5999。\n"
          ]
        }
      ]
    },
    {
      "cell_type": "markdown",
      "source": [
        "用户提问二"
      ],
      "metadata": {
        "id": "UoGDFid5vY6r"
      }
    },
    {
      "cell_type": "code",
      "source": [
        "user_message = f\"\"\"请推荐几个合适得电视给我，谢谢！\"\"\"\n",
        "\n",
        "messages =  [\n",
        "{'role':'system',\n",
        " 'content': system_message},\n",
        "{'role':'user',\n",
        " 'content': f\"{delimiter}{user_message}{delimiter}\"},\n",
        "]\n",
        "\n",
        "response = get_completion_from_messages(messages)\n",
        "print(response)\n"
      ],
      "metadata": {
        "colab": {
          "base_uri": "https://localhost:8080/"
        },
        "id": "6puAC4ZXvbCp",
        "outputId": "04b30a87-877f-4a69-8764-45f17cfe5d6e"
      },
      "execution_count": null,
      "outputs": [
        {
          "output_type": "stream",
          "name": "stdout",
          "text": [
            "步骤 1: ====用户正在询问有关特定产品的问题。\n",
            "\n",
            "步骤 2: ====根据可用产品列表，我们只有手机产品的信息，没有电视产品的信息。\n",
            "\n",
            "回复客户: ====非常抱歉，我们目前只提供手机产品的信息，没有电视产品的推荐。如果您需要任何关于手机的建议或信息，请随时告诉我们。感谢您的理解！\n"
          ]
        }
      ]
    },
    {
      "cell_type": "markdown",
      "source": [
        "内心独白"
      ],
      "metadata": {
        "id": "AhblVf-AfI6R"
      }
    },
    {
      "cell_type": "code",
      "source": [
        "try:\n",
        "    if delimiter in response:\n",
        "        final_response = response.split(delimiter)[-1].strip()\n",
        "    else:\n",
        "        final_response = response.split(\":\")[-1].strip()\n",
        "except Exception as e:\n",
        "    final_response = \"对不起，我现在有点问题，请尝试问另外一个问题\"\n",
        "\n",
        "print(final_response)\n"
      ],
      "metadata": {
        "colab": {
          "base_uri": "https://localhost:8080/"
        },
        "id": "sA_iJOdHemEl",
        "outputId": "23fa8b77-a6ce-4907-e818-40962763f115"
      },
      "execution_count": null,
      "outputs": [
        {
          "output_type": "stream",
          "name": "stdout",
          "text": [
            "非常抱歉，我们目前只提供手机产品的信息，没有电视产品的推荐。如果您需要任何关于手机的建议或信息，请随时告诉我们。感谢您的理解！\n"
          ]
        }
      ]
    },
    {
      "cell_type": "markdown",
      "source": [
        "# 1.6 提示链推理"
      ],
      "metadata": {
        "id": "VyRN9QgenphA"
      }
    },
    {
      "cell_type": "markdown",
      "source": [
        "步骤1：确定是否是关于公司的产品问题。"
      ],
      "metadata": {
        "id": "R8WIO8QWs6Ay"
      }
    },
    {
      "cell_type": "code",
      "source": [
        "import json"
      ],
      "metadata": {
        "id": "WIFNNb_IMRAn"
      },
      "execution_count": null,
      "outputs": []
    },
    {
      "cell_type": "code",
      "source": [
        "# 加载结构化产品信息\n",
        "product_info_json = \"\"\"\n",
        "[\n",
        "    {\n",
        "        \"brand\": \"华为\",\n",
        "        \"model\": \"Mate X\",\n",
        "        \"price\": 9999,\n",
        "        \"screen_size\": \"8.0 inches\",\n",
        "        \"battery_capacity\": \"4500 mAh\",\n",
        "        \"description\": \"华为Mate X是一款拥有8.0英寸可折叠屏幕的旗舰手机，提供极致的视觉体验。\"\n",
        "    },\n",
        "    {\n",
        "        \"brand\": \"vivo\",\n",
        "        \"model\": \"X60 Pro\",\n",
        "        \"price\": 4999,\n",
        "        \"screen_size\": \"6.56 inches\",\n",
        "        \"battery_capacity\": \"4200 mAh\",\n",
        "        \"description\": \"vivo X60 Pro采用6.56英寸AMOLED屏幕，搭载专业摄影功能，捕捉每一刻精彩。\"\n",
        "    },\n",
        "    {\n",
        "        \"brand\": \"小米\",\n",
        "        \"model\": \"Mi 11 Ultra\",\n",
        "        \"price\": 5999,\n",
        "        \"screen_size\": \"6.81 inches\",\n",
        "        \"battery_capacity\": \"5000 mAh\",\n",
        "        \"description\": \"小米Mi 11 Ultra配备6.81英寸高刷新率屏幕和5000 mAh电池，性能与续航兼具。\"\n",
        "    }\n",
        "]\n",
        "\"\"\"\n",
        "product_info_list = json.loads(product_info_json)"
      ],
      "metadata": {
        "id": "7iCXncNpNGuR"
      },
      "execution_count": null,
      "outputs": []
    },
    {
      "cell_type": "code",
      "source": [
        "#### 系统提示\n",
        "delimiter = \"====\"\n",
        "\n",
        "system_message = f\"\"\"\n",
        "您将获得客户服务查询。\n",
        "客户服务查询将使用{delimiter}字符作为分隔符。\n",
        "\n",
        "确定用户是否正在询问有关特定产品或产品的问题，如果是的话返回Y，否则返回N。\n",
        "\n",
        "产品信息如下：\n",
        "{product_info_json}\n",
        "\"\"\""
      ],
      "metadata": {
        "id": "xnh76oLFnwxh"
      },
      "execution_count": null,
      "outputs": []
    },
    {
      "cell_type": "code",
      "source": [
        "user_message = f\"\"\"请问你们有华为手机吗？能否给我介绍一下技术参数？\"\"\"\n",
        "\n",
        "messages = [\n",
        "{'role':'system',\n",
        " 'content': system_message},\n",
        "{'role':'user',\n",
        " 'content': f\"{delimiter}{user_message}{delimiter}\"},\n",
        "]\n",
        "\n",
        "response1 = get_completion_from_messages(messages)\n",
        "print(response1)\n"
      ],
      "metadata": {
        "colab": {
          "base_uri": "https://localhost:8080/"
        },
        "id": "52kG9gYVo0Sl",
        "outputId": "32a15bc3-e14c-4f48-a68c-26d8b3f39b02"
      },
      "execution_count": null,
      "outputs": [
        {
          "output_type": "stream",
          "name": "stdout",
          "text": [
            "Y\n"
          ]
        }
      ]
    },
    {
      "cell_type": "markdown",
      "source": [
        "步骤2：列出涉及的产品名称。"
      ],
      "metadata": {
        "id": "wAVkjRL5s9R6"
      }
    },
    {
      "cell_type": "code",
      "source": [
        "if response1 == 'N':\n",
        "  print('抱歉，我们公司产品以外的业务暂时回复不了哦')\n",
        "else:\n",
        "  system_message = f\"\"\"\n",
        "    您将获得客户服务查询。\n",
        "    客户服务查询将使用{delimiter}字符作为分隔符。\n",
        "\n",
        "    根据用户的问题，返回用户涉及的产品名称列表。返回的格式只能是json形式，表现为[\"产品名称1\"，\"产品名称2\"，...],\n",
        "    其中产品名称只能是'华为、vivo、小米'三个名称中的一个或多个。\n",
        "\n",
        "    产品信息如下：\n",
        "    {product_info_json}\n",
        "  \"\"\"\n",
        "  user_message = f\"\"\"请问你们有华为手机吗？能否给我介绍一下技术参数？\"\"\"\n",
        "\n",
        "  messages =  [\n",
        "  {'role':'system',\n",
        "  'content': system_message},\n",
        "  {'role':'user',\n",
        "  'content': f\"{delimiter}{user_message}{delimiter}\"},\n",
        "  ]\n",
        "\n",
        "  response2 = get_completion_from_messages(messages)\n",
        "  print(response2)"
      ],
      "metadata": {
        "colab": {
          "base_uri": "https://localhost:8080/"
        },
        "id": "uxWv_02ctfQO",
        "outputId": "b05d9888-a2f9-4824-86f3-8420938e6364"
      },
      "execution_count": null,
      "outputs": [
        {
          "output_type": "stream",
          "name": "stdout",
          "text": [
            "[\"华为\"]\n"
          ]
        }
      ]
    },
    {
      "cell_type": "markdown",
      "source": [
        "步骤3：根据名称查询产品信息。\n"
      ],
      "metadata": {
        "id": "tytNjG-S0IcY"
      }
    },
    {
      "cell_type": "code",
      "source": [
        "for product_name in json.loads(response2):\n",
        "  for product_dict in product_info_list:\n",
        "    if product_dict['brand'] == product_name:\n",
        "      product_rel_json = json.dumps(product_dict, ensure_ascii=False)\n",
        "      print(product_rel_json)"
      ],
      "metadata": {
        "id": "o4IGlfum0GfX",
        "colab": {
          "base_uri": "https://localhost:8080/"
        },
        "outputId": "7dab9b4a-2a3f-4d91-8e71-cacfdc2f1daf"
      },
      "execution_count": null,
      "outputs": [
        {
          "output_type": "stream",
          "name": "stdout",
          "text": [
            "{\"brand\": \"华为\", \"model\": \"Mate X\", \"price\": 9999, \"screen_size\": \"8.0 inches\", \"battery_capacity\": \"4500 mAh\", \"description\": \"华为Mate X是一款拥有8.0英寸可折叠屏幕的旗舰手机，提供极致的视觉体验。\"}\n"
          ]
        }
      ]
    },
    {
      "cell_type": "markdown",
      "source": [
        "步骤4：根据查询的产品信息回答用户问题。"
      ],
      "metadata": {
        "id": "etvKgIS-0Swc"
      }
    },
    {
      "cell_type": "code",
      "source": [
        "system_message = f\"\"\"\n",
        "  您是一家销售手机的电商售前助理。\n",
        "  请以友善平和的语气回答客户的问题。\n",
        "  客户的问题将使用{delimiter}字符作为分隔符。\n",
        "\"\"\"\n",
        "user_message = f\"\"\"请问你们有华为手机吗？能否给我介绍一下技术参数？\"\"\"\n",
        "\n",
        "messages =  [\n",
        "{'role':'system','content': system_message},\n",
        "{'role':'user','content': f\"{delimiter}{user_message}{delimiter}\"},\n",
        "{'role':'assistant','content': f\"\"\"相关产品信息：{product_rel_json}\"\"\"}\n",
        "]\n",
        "\n",
        "response3 = get_completion_from_messages(messages)\n",
        "print(response3)"
      ],
      "metadata": {
        "colab": {
          "base_uri": "https://localhost:8080/"
        },
        "id": "oizH3Rx8TFFH",
        "outputId": "e509eb51-df66-4dd0-b18b-e46573b5fc33"
      },
      "execution_count": null,
      "outputs": [
        {
          "output_type": "stream",
          "name": "stdout",
          "text": [
            "是的，我们有华为手机。让我为您介绍一款华为手机的技术参数吧：\n",
            "品牌：华为\n",
            "型号：Mate X\n",
            "价格：9999元\n",
            "屏幕尺寸：8.0英寸\n",
            "电池容量：4500毫安时\n",
            "描述：华为Mate X是一款拥有8.0英寸可折叠屏幕的旗舰手机，提供极致的视觉体验。如果您对这款手机还有其他疑问或需要了解更多信息，请随时告诉我哦。\n"
          ]
        }
      ]
    },
    {
      "cell_type": "markdown",
      "source": [
        "# 1.7 基于大模型API构建客服机器人"
      ],
      "metadata": {
        "id": "znhIVRGlzm9Y"
      }
    },
    {
      "cell_type": "code",
      "source": [
        "import json\n",
        "# 加载结构化产品信息\n",
        "product_info_json = \"\"\"\n",
        "[\n",
        "    {\n",
        "        \"brand\": \"华为\",\n",
        "        \"model\": \"Mate X\",\n",
        "        \"price\": 9999,\n",
        "        \"screen_size\": \"8.0 inches\",\n",
        "        \"battery_capacity\": \"4500 mAh\",\n",
        "        \"description\": \"华为Mate X是一款拥有8.0英寸可折叠屏幕的旗舰手机，提供极致的视觉体验。\"\n",
        "    },\n",
        "    {\n",
        "        \"brand\": \"vivo\",\n",
        "        \"model\": \"X60 Pro\",\n",
        "        \"price\": 4999,\n",
        "        \"screen_size\": \"6.56 inches\",\n",
        "        \"battery_capacity\": \"4200 mAh\",\n",
        "        \"description\": \"vivo X60 Pro采用6.56英寸AMOLED屏幕，搭载专业摄影功能，捕捉每一刻精彩。\"\n",
        "    },\n",
        "    {\n",
        "        \"brand\": \"小米\",\n",
        "        \"model\": \"Mi 11 Ultra\",\n",
        "        \"price\": 5999,\n",
        "        \"screen_size\": \"6.81 inches\",\n",
        "        \"battery_capacity\": \"5000 mAh\",\n",
        "        \"description\": \"小米Mi 11 Ultra配备6.81英寸高刷新率屏幕和5000 mAh电池，性能与续航兼具。\"\n",
        "    }\n",
        "]\n",
        "\"\"\"\n",
        "product_info_list = json.loads(product_info_json)"
      ],
      "metadata": {
        "id": "SKzsDa9fUX2g"
      },
      "execution_count": null,
      "outputs": []
    },
    {
      "cell_type": "code",
      "source": [
        "def customer_service_assistant(user_message=None, product_info_json=product_info_json, product_info_list=product_info_list):\n",
        "\n",
        "  #### step1 对输入进行合规检查\n",
        "  response1 = openai.Moderation.create(input=user_message)\n",
        "  response1 = response1[\"results\"][0]\n",
        "  if response1['flagged']:\n",
        "    print('第一步：检查输入是否合规。结果：输入不合规，被Moderation拒绝。')\n",
        "    return '抱歉，您的请求不合规'\n",
        "  else:\n",
        "    print('第一步：检查输入是否合规。结果：输入合规。')\n",
        "\n",
        "  #### step2 判断用户问题是否是关于公司的产品\n",
        "  delimiter = \"====\"\n",
        "  system_message = f\"\"\"\n",
        "  您将获得客户服务查询。\n",
        "  客户服务查询将使用{delimiter}字符作为分隔符。\n",
        "  确定用户是否正在询问有关特定产品或产品的问题，如果是的话返回Y，否则返回N。\n",
        "  产品信息如下：\n",
        "  {product_info_json}\n",
        "  \"\"\"\n",
        "  messages = [\n",
        "    {'role':'system','content': system_message},\n",
        "    {'role':'user','content': f\"{delimiter}{user_message}{delimiter}\"},\n",
        "  ]\n",
        "  response2 = get_completion_from_messages(messages)\n",
        "  print('第二步：判断用户问题是否是关于公司的产品。结果：', response2)\n",
        "  if response2 == 'N':\n",
        "    return '抱歉，我们公司产品以外的业务暂时回复不了哦'\n",
        "\n",
        "  #### step3 识别用户问题中涉及的产品名称\n",
        "  system_message = f\"\"\"\n",
        "    您将获得客户服务查询。\n",
        "    客户服务查询将使用{delimiter}字符作为分隔符。\n",
        "    根据用户的问题，返回用户涉及的产品名称列表。返回的格式只能是json形式，表现为[\"产品名称1\"，\"产品名称2\"，...],\n",
        "    其中产品名称只能是'华为、vivo、小米'三个名称中的一个或多个。\n",
        "    产品信息如下：\n",
        "    {product_info_json}\n",
        "  \"\"\"\n",
        "  user_message = f\"\"\"{user_message}\"\"\"\n",
        "  messages =  [\n",
        "    {'role':'system','content': system_message},\n",
        "    {'role':'user','content': f\"{delimiter}{user_message}{delimiter}\"},\n",
        "  ]\n",
        "  response3 = get_completion_from_messages(messages)\n",
        "  print('第三步：识别用户问题中涉及的产品名称。结果：', response3)\n",
        "\n",
        "  #### step4 根据名称查询产品信息\n",
        "  for product_name in json.loads(response3):\n",
        "    for product_dict in product_info_list:\n",
        "      if product_dict['brand'] == product_name:\n",
        "        product_rel_json = json.dumps(product_dict, ensure_ascii=False)\n",
        "        print('第四步：根据名称查询产品信息。结果：', product_rel_json)\n",
        "\n",
        "  #### step5 根据查询的产品信息回答用户问题\n",
        "  system_message = f\"\"\"\n",
        "    您是一家销售手机的电商售前助理。\n",
        "    请以友善平和的语气回答客户的问题。\n",
        "    客户的问题将使用{delimiter}字符作为分隔符。\n",
        "  \"\"\"\n",
        "  user_message = f\"\"\"{user_message}\"\"\"\n",
        "  messages =  [\n",
        "    {'role':'system','content': system_message},\n",
        "    {'role':'user','content': f\"{delimiter}{user_message}{delimiter}\"},\n",
        "    {'role':'assistant','content': f\"\"\"相关产品信息：{product_rel_json}\"\"\"}\n",
        "  ]\n",
        "  response5 = get_completion_from_messages(messages)\n",
        "  print('第五步：根据查询的产品信息回答用户问题。结果：', response5)\n",
        "\n",
        "  #### step6 对回复给用户的内容进行合规检查\n",
        "  response6 = openai.Moderation.create(input=response5)\n",
        "  response6 = response6[\"results\"][0]\n",
        "  if response1['flagged']:\n",
        "    print('第六步：检查回复内容是否合规。结果：不合规，被Moderation拒绝。')\n",
        "    return '抱歉，暂时无法回复该问题，将转接人工客服。'\n",
        "  else:\n",
        "    print('第六步：检查回复内容是否合规。结果：合规。')\n",
        "\n",
        "  #### step7 判断回复给用户的内容是否对用户有用\n",
        "  user_message = f\"\"\"\n",
        "    用户信息: {delimiter}{user_message}{delimiter}\n",
        "    代理回复: {delimiter}{response5}{delimiter}\n",
        "    回复是否足够回答问题\n",
        "    如果足够，回答 Y\n",
        "    如果不足够，回答 N\n",
        "    仅回答上述字母即可\n",
        "  \"\"\"\n",
        "  messages = [\n",
        "      {'role': 'system', 'content': system_message},\n",
        "      {'role': 'user', 'content': user_message}\n",
        "  ]\n",
        "  response7 = get_completion_from_messages(messages)\n",
        "  if response7 == 'N':\n",
        "    print('第七步：判断回复给用户的内容是否对用户有用。结果：对用户无用，需要转人工。')\n",
        "    return '抱歉，暂时无法回复该问题，将转接人工客服。'\n",
        "  else:\n",
        "    print('第七步：判断回复给用户的内容是否对用户有用。结果：对用户有用。')\n",
        "\n",
        "  return response5"
      ],
      "metadata": {
        "id": "l7IiGZ-AUwz_"
      },
      "execution_count": null,
      "outputs": []
    },
    {
      "cell_type": "code",
      "source": [
        "input_message = '请问你们有华为手机吗？能否给我介绍一下技术参数？'\n",
        "output_message = customer_service_assistant(user_message=input_message)"
      ],
      "metadata": {
        "colab": {
          "base_uri": "https://localhost:8080/"
        },
        "id": "V9GwJwvBUxgG",
        "outputId": "c5fc18c3-01ec-4d5c-a012-20ab67577332"
      },
      "execution_count": null,
      "outputs": [
        {
          "output_type": "stream",
          "name": "stdout",
          "text": [
            "第一步：检查输入是否合规。结果：输入合规。\n",
            "第二步：判断用户问题是否是关于公司的产品。结果： Y\n",
            "第三步：识别用户问题中涉及的产品名称。结果： [\"华为\"]\n",
            "第四步：根据名称查询产品信息。结果： {\"brand\": \"华为\", \"model\": \"Mate X\", \"price\": 9999, \"screen_size\": \"8.0 inches\", \"battery_capacity\": \"4500 mAh\", \"description\": \"华为Mate X是一款拥有8.0英寸可折叠屏幕的旗舰手机，提供极致的视觉体验。\"}\n",
            "第五步：根据查询的产品信息回答用户问题。结果： 是的，我们有华为手机。让我为您介绍一款华为手机的技术参数。这款手机是华为Mate X，拥有8.0英寸可折叠屏幕，电池容量为4500毫安时，售价为9999元。这款手机提供极致的视觉体验，是一款高端旗舰手机。您对这款手机还有其他想了解的信息吗？\n",
            "第六步：检查回复内容是否合规。结果：合规。\n",
            "第七步：判断回复给用户的内容是否对用户有用。结果：对用户有用。\n"
          ]
        }
      ]
    },
    {
      "cell_type": "code",
      "source": [
        "print(output_message)"
      ],
      "metadata": {
        "colab": {
          "base_uri": "https://localhost:8080/"
        },
        "id": "NStaA3tcYwGO",
        "outputId": "6c432408-d776-4632-f157-008386f33c8f"
      },
      "execution_count": null,
      "outputs": [
        {
          "output_type": "stream",
          "name": "stdout",
          "text": [
            "是的，我们有华为手机。让我为您介绍一款华为手机的技术参数。这款手机是华为Mate X，拥有8.0英寸可折叠屏幕，电池容量为4500毫安时，售价为9999元。这款手机提供极致的视觉体验，是一款高端旗舰手机。您对这款手机还有其他想了解的信息吗？\n"
          ]
        }
      ]
    }
  ]
}